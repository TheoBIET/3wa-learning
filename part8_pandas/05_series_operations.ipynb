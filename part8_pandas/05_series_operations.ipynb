{
 "cells": [
  {
   "cell_type": "markdown",
   "id": "9572ecb1",
   "metadata": {},
   "source": [
    "## Opération sur les Séries\n",
    "\n",
    "On peut utiliser, comme dans Numpy, les opérations arithmétiques classiques sur les Séries. Il faudra cependant faire attention aux index. Les opérations s'alignent sur les index :"
   ]
  },
  {
   "cell_type": "code",
   "execution_count": 1,
   "id": "5a613fe6",
   "metadata": {},
   "outputs": [
    {
     "data": {
      "text/plain": [
       "a    11.0\n",
       "b    22.0\n",
       "c     NaN\n",
       "d    44.0\n",
       "f     NaN\n",
       "dtype: float64"
      ]
     },
     "execution_count": 1,
     "metadata": {},
     "output_type": "execute_result"
    }
   ],
   "source": [
    "import pandas as pd\n",
    "\n",
    "a = pd.Series([1,2,3,4], ['a', 'b', 'c', 'd' ])\n",
    "b = pd.Series([10,20,30,40], ['a', 'b', 'f', 'd' ])\n",
    "\n",
    "a + b"
   ]
  }
 ],
 "metadata": {
  "kernelspec": {
   "display_name": "Python 3 (ipykernel)",
   "language": "python",
   "name": "python3"
  },
  "language_info": {
   "codemirror_mode": {
    "name": "ipython",
    "version": 3
   },
   "file_extension": ".py",
   "mimetype": "text/x-python",
   "name": "python",
   "nbconvert_exporter": "python",
   "pygments_lexer": "ipython3",
   "version": "3.9.7"
  }
 },
 "nbformat": 4,
 "nbformat_minor": 5
}
