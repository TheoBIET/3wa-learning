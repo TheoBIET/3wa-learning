{
 "cells": [
  {
   "cell_type": "markdown",
   "id": "06db1358",
   "metadata": {},
   "source": [
    "## Exercice méthode groupby\n",
    "\n",
    "Soient les deux séries suivantes **fruits** et **weights**, calculez la moyenne des poids de chaques fruits. Utilisez la méthode **groupby**, elle permet de regrouper (agréger) des valeurs. Cette méthode ignorera les valeurs manquantes."
   ]
  },
  {
   "cell_type": "code",
   "execution_count": 66,
   "id": "f2d3ab67",
   "metadata": {},
   "outputs": [],
   "source": [
    "import pandas as pd\n",
    "import numpy as np\n",
    "\n",
    "fruits = np.random.choice(['banana', 'apple', 'raspberry'], 15)\n",
    "\n",
    "weights = np.linspace(1.0, 2.0, 15)\n",
    "\n",
    "df = pd.Series(weights, index=fruits)\n",
    "\n",
    "df = pd.DataFrame({'Fruit': fruits,\n",
    "                  'Weight': weights})"
   ]
  },
  {
   "cell_type": "markdown",
   "id": "97270f69",
   "metadata": {},
   "source": [
    "Retournez tous les poids du fruit \"banana\"."
   ]
  },
  {
   "cell_type": "code",
   "execution_count": 67,
   "id": "8828c3d1",
   "metadata": {},
   "outputs": [
    {
     "data": {
      "text/html": [
       "<div>\n",
       "<style scoped>\n",
       "    .dataframe tbody tr th:only-of-type {\n",
       "        vertical-align: middle;\n",
       "    }\n",
       "\n",
       "    .dataframe tbody tr th {\n",
       "        vertical-align: top;\n",
       "    }\n",
       "\n",
       "    .dataframe thead th {\n",
       "        text-align: right;\n",
       "    }\n",
       "</style>\n",
       "<table border=\"1\" class=\"dataframe\">\n",
       "  <thead>\n",
       "    <tr style=\"text-align: right;\">\n",
       "      <th></th>\n",
       "      <th>Fruit</th>\n",
       "      <th>Weight</th>\n",
       "    </tr>\n",
       "  </thead>\n",
       "  <tbody>\n",
       "    <tr>\n",
       "      <th>0</th>\n",
       "      <td>banana</td>\n",
       "      <td>1.000000</td>\n",
       "    </tr>\n",
       "    <tr>\n",
       "      <th>1</th>\n",
       "      <td>banana</td>\n",
       "      <td>1.071429</td>\n",
       "    </tr>\n",
       "    <tr>\n",
       "      <th>2</th>\n",
       "      <td>banana</td>\n",
       "      <td>1.142857</td>\n",
       "    </tr>\n",
       "    <tr>\n",
       "      <th>4</th>\n",
       "      <td>banana</td>\n",
       "      <td>1.285714</td>\n",
       "    </tr>\n",
       "    <tr>\n",
       "      <th>9</th>\n",
       "      <td>banana</td>\n",
       "      <td>1.642857</td>\n",
       "    </tr>\n",
       "    <tr>\n",
       "      <th>10</th>\n",
       "      <td>banana</td>\n",
       "      <td>1.714286</td>\n",
       "    </tr>\n",
       "    <tr>\n",
       "      <th>13</th>\n",
       "      <td>banana</td>\n",
       "      <td>1.928571</td>\n",
       "    </tr>\n",
       "  </tbody>\n",
       "</table>\n",
       "</div>"
      ],
      "text/plain": [
       "     Fruit    Weight\n",
       "0   banana  1.000000\n",
       "1   banana  1.071429\n",
       "2   banana  1.142857\n",
       "4   banana  1.285714\n",
       "9   banana  1.642857\n",
       "10  banana  1.714286\n",
       "13  banana  1.928571"
      ]
     },
     "execution_count": 67,
     "metadata": {},
     "output_type": "execute_result"
    }
   ],
   "source": [
    "df[df['Fruit'] == 'banana']"
   ]
  },
  {
   "cell_type": "markdown",
   "id": "0b66f6ee",
   "metadata": {},
   "source": [
    "Donnez également le nombre de bananes."
   ]
  },
  {
   "cell_type": "code",
   "execution_count": 68,
   "id": "8768f392",
   "metadata": {},
   "outputs": [
    {
     "data": {
      "text/plain": [
       "Fruit     7\n",
       "Weight    7\n",
       "dtype: int64"
      ]
     },
     "execution_count": 68,
     "metadata": {},
     "output_type": "execute_result"
    }
   ],
   "source": [
    "df[df['Fruit'] == 'banana'].count()"
   ]
  },
  {
   "cell_type": "markdown",
   "id": "a31bb758",
   "metadata": {},
   "source": [
    "\n",
    "Quelle est le fruit qui a la somme de ses poids la plus élevée ?"
   ]
  },
  {
   "cell_type": "code",
   "execution_count": 69,
   "id": "ec8caebd",
   "metadata": {},
   "outputs": [
    {
     "data": {
      "text/plain": [
       "1.7857142857142856"
      ]
     },
     "execution_count": 69,
     "metadata": {},
     "output_type": "execute_result"
    }
   ],
   "source": [
    "W = df.groupby(['Fruit']).mean()\n",
    "\n",
    "max(W['Weight'])"
   ]
  },
  {
   "cell_type": "markdown",
   "id": "453aba29",
   "metadata": {},
   "source": [
    "\n",
    "Ordonnez par somme des poids les fruits."
   ]
  },
  {
   "cell_type": "code",
   "execution_count": 76,
   "id": "7542c6f6",
   "metadata": {},
   "outputs": [
    {
     "data": {
      "text/html": [
       "<div>\n",
       "<style scoped>\n",
       "    .dataframe tbody tr th:only-of-type {\n",
       "        vertical-align: middle;\n",
       "    }\n",
       "\n",
       "    .dataframe tbody tr th {\n",
       "        vertical-align: top;\n",
       "    }\n",
       "\n",
       "    .dataframe thead th {\n",
       "        text-align: right;\n",
       "    }\n",
       "</style>\n",
       "<table border=\"1\" class=\"dataframe\">\n",
       "  <thead>\n",
       "    <tr style=\"text-align: right;\">\n",
       "      <th></th>\n",
       "      <th>Weight</th>\n",
       "    </tr>\n",
       "    <tr>\n",
       "      <th>Fruit</th>\n",
       "      <th></th>\n",
       "    </tr>\n",
       "  </thead>\n",
       "  <tbody>\n",
       "    <tr>\n",
       "      <th>raspberry</th>\n",
       "      <td>1.785714</td>\n",
       "    </tr>\n",
       "    <tr>\n",
       "      <th>apple</th>\n",
       "      <td>1.561224</td>\n",
       "    </tr>\n",
       "    <tr>\n",
       "      <th>banana</th>\n",
       "      <td>1.397959</td>\n",
       "    </tr>\n",
       "  </tbody>\n",
       "</table>\n",
       "</div>"
      ],
      "text/plain": [
       "             Weight\n",
       "Fruit              \n",
       "raspberry  1.785714\n",
       "apple      1.561224\n",
       "banana     1.397959"
      ]
     },
     "execution_count": 76,
     "metadata": {},
     "output_type": "execute_result"
    }
   ],
   "source": [
    "W.sort_values(by=['Weight'], ascending=False)"
   ]
  }
 ],
 "metadata": {
  "kernelspec": {
   "display_name": "Python 3 (ipykernel)",
   "language": "python",
   "name": "python3"
  },
  "language_info": {
   "codemirror_mode": {
    "name": "ipython",
    "version": 3
   },
   "file_extension": ".py",
   "mimetype": "text/x-python",
   "name": "python",
   "nbconvert_exporter": "python",
   "pygments_lexer": "ipython3",
   "version": "3.9.7"
  }
 },
 "nbformat": 4,
 "nbformat_minor": 5
}
