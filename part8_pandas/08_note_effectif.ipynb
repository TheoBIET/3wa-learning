{
 "cells": [
  {
   "cell_type": "markdown",
   "id": "2d319227",
   "metadata": {},
   "source": [
    "## Exercice notes et effectifs\n",
    "\n",
    "Les notes correspondent terme à terme aux effectifs.\n"
   ]
  },
  {
   "cell_type": "code",
   "execution_count": 87,
   "id": "3dba117f",
   "metadata": {},
   "outputs": [],
   "source": [
    "import pandas as pd\n",
    "import numpy as np\n",
    "\n",
    "notes = pd.Series([1, 7, 8, 9, 10, 12, 15, 17, 18, 19 ,20])\n",
    "effectifs = pd.Series([2,3, 2, 1, 5, 7, 2, 6, 2, 1, 1])"
   ]
  },
  {
   "cell_type": "markdown",
   "id": "011d9da9",
   "metadata": {},
   "source": [
    "1. Quel est le pourcentage d'étudiants de la promo Data01 ayant obtenu une note comprise entre 9 et 13 ?"
   ]
  },
  {
   "cell_type": "code",
   "execution_count": 88,
   "id": "d18fe3af",
   "metadata": {},
   "outputs": [
    {
     "data": {
      "text/plain": [
       "40.62"
      ]
     },
     "execution_count": 88,
     "metadata": {},
     "output_type": "execute_result"
    }
   ],
   "source": [
    "np.around(effectifs[notes.between(9, 13)].sum() / effectifs.sum() * 100, 2)"
   ]
  },
  {
   "cell_type": "markdown",
   "id": "42718542",
   "metadata": {},
   "source": [
    "2. Combien d'étudiants ont obtenus une note inférieur à 10 strictement."
   ]
  },
  {
   "cell_type": "code",
   "execution_count": 89,
   "id": "371bb87b",
   "metadata": {},
   "outputs": [
    {
     "data": {
      "text/plain": [
       "8"
      ]
     },
     "execution_count": 89,
     "metadata": {},
     "output_type": "execute_result"
    }
   ],
   "source": [
    "effectifs[notes < 10].sum()"
   ]
  },
  {
   "cell_type": "markdown",
   "id": "ac10a887",
   "metadata": {},
   "source": [
    "3. Déterminez la moyenne de la promo."
   ]
  },
  {
   "cell_type": "code",
   "execution_count": 90,
   "id": "edcc12f2",
   "metadata": {},
   "outputs": [
    {
     "data": {
      "text/plain": [
       "12.16"
      ]
     },
     "execution_count": 90,
     "metadata": {},
     "output_type": "execute_result"
    }
   ],
   "source": [
    "np.around((effectifs * notes).sum() / effectifs.sum(), 2)"
   ]
  },
  {
   "cell_type": "markdown",
   "id": "d0870d31",
   "metadata": {},
   "source": [
    "4. Déterminez la note médiane.\n",
    "5. Déterminez le premier et de dernier quartile."
   ]
  },
  {
   "cell_type": "code",
   "execution_count": 95,
   "id": "ed054543",
   "metadata": {},
   "outputs": [
    {
     "data": {
      "text/plain": [
       "count    32.000000\n",
       "mean     12.156250\n",
       "std       4.853395\n",
       "min       1.000000\n",
       "25%       9.750000\n",
       "50%      12.000000\n",
       "75%      17.000000\n",
       "max      20.000000\n",
       "dtype: float64"
      ]
     },
     "execution_count": 95,
     "metadata": {},
     "output_type": "execute_result"
    }
   ],
   "source": [
    "N = pd.Series(np.repeat(notes, effectifs))\n",
    "\n",
    "N.describe()"
   ]
  }
 ],
 "metadata": {
  "kernelspec": {
   "display_name": "Python 3 (ipykernel)",
   "language": "python",
   "name": "python3"
  },
  "language_info": {
   "codemirror_mode": {
    "name": "ipython",
    "version": 3
   },
   "file_extension": ".py",
   "mimetype": "text/x-python",
   "name": "python",
   "nbconvert_exporter": "python",
   "pygments_lexer": "ipython3",
   "version": "3.9.7"
  }
 },
 "nbformat": 4,
 "nbformat_minor": 5
}
