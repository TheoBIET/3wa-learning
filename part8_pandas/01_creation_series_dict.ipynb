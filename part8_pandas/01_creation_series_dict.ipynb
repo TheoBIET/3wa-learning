{
 "cells": [
  {
   "cell_type": "markdown",
   "id": "72e620cd",
   "metadata": {},
   "source": [
    "## Exercice création d'objet \"Séries\" avec un dictionnaire Python\n",
    "\n",
    "Voici une série Pandas pour représenter des villes et leur nombre d'habitants."
   ]
  },
  {
   "cell_type": "code",
   "execution_count": 6,
   "id": "8935fb57",
   "metadata": {},
   "outputs": [],
   "source": [
    "import pandas as pd\n",
    "\n",
    "cities =  pd.Series({\n",
    "    'Bordeaux' : 249712  ,\n",
    "    'Paris' : 2190327 ,\n",
    "    'Lille' : 232741\n",
    "})"
   ]
  },
  {
   "cell_type": "markdown",
   "id": "92b92b87",
   "metadata": {},
   "source": [
    "Sauriez-vous deviner ce que seront les index et les valeurs de l'objet Series dans l'exemple ci-dessous ?"
   ]
  },
  {
   "cell_type": "code",
   "execution_count": 5,
   "id": "84e68e96",
   "metadata": {},
   "outputs": [
    {
     "data": {
      "text/plain": [
       "Index(['Bordeaux', 'Paris', 'Lille'], dtype='object')"
      ]
     },
     "execution_count": 5,
     "metadata": {},
     "output_type": "execute_result"
    }
   ],
   "source": [
    "cities.index"
   ]
  },
  {
   "cell_type": "markdown",
   "id": "34e6e02b",
   "metadata": {},
   "source": [
    "Quelle syntaxe devriez-vous utiliser pour accéder au nombre d'habitants à Paris ?"
   ]
  },
  {
   "cell_type": "code",
   "execution_count": 7,
   "id": "d34362ac",
   "metadata": {},
   "outputs": [
    {
     "data": {
      "text/plain": [
       "2190327"
      ]
     },
     "execution_count": 7,
     "metadata": {},
     "output_type": "execute_result"
    }
   ],
   "source": [
    "cities['Paris']"
   ]
  }
 ],
 "metadata": {
  "kernelspec": {
   "display_name": "Python 3 (ipykernel)",
   "language": "python",
   "name": "python3"
  },
  "language_info": {
   "codemirror_mode": {
    "name": "ipython",
    "version": 3
   },
   "file_extension": ".py",
   "mimetype": "text/x-python",
   "name": "python",
   "nbconvert_exporter": "python",
   "pygments_lexer": "ipython3",
   "version": "3.9.7"
  }
 },
 "nbformat": 4,
 "nbformat_minor": 5
}
