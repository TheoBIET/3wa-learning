{
 "cells": [
  {
   "cell_type": "markdown",
   "id": "47088236",
   "metadata": {},
   "source": [
    "## Exercice Séries A & B\n",
    "\n",
    "1. Soit les deux Séries A et B suivantes, récupérez les valeurs de la série A qui ne sont pas présentes dans la série B."
   ]
  },
  {
   "cell_type": "code",
   "execution_count": 12,
   "id": "5033c7c9",
   "metadata": {},
   "outputs": [
    {
     "data": {
      "text/plain": [
       "2    13\n",
       "4    59\n",
       "dtype: int64"
      ]
     },
     "execution_count": 12,
     "metadata": {},
     "output_type": "execute_result"
    }
   ],
   "source": [
    "import pandas as pd\n",
    "\n",
    "A = pd.Series([1,21,13,14,59])\n",
    "B = pd.Series([14,21,3,4,5,1])\n",
    "\n",
    "A[~A.isin(B)]"
   ]
  },
  {
   "cell_type": "markdown",
   "id": "6809c683",
   "metadata": {},
   "source": [
    "2. Donnez les valeurs de l'intersection de A et B."
   ]
  },
  {
   "cell_type": "code",
   "execution_count": 23,
   "id": "108fb7b7",
   "metadata": {},
   "outputs": [
    {
     "data": {
      "text/plain": [
       "0     1\n",
       "1    21\n",
       "3    14\n",
       "dtype: int64"
      ]
     },
     "execution_count": 23,
     "metadata": {},
     "output_type": "execute_result"
    }
   ],
   "source": [
    "A[A.isin(B)]"
   ]
  },
  {
   "cell_type": "markdown",
   "id": "06a92bf5",
   "metadata": {},
   "source": [
    "3. Quelles sont toutes les valeurs de A qui ne sont pas dans B et toutes les valeurs de B qui ne sont pas dans A."
   ]
  },
  {
   "cell_type": "code",
   "execution_count": 30,
   "id": "8c58210b",
   "metadata": {},
   "outputs": [
    {
     "data": {
      "text/plain": [
       "0    13\n",
       "1    59\n",
       "2     3\n",
       "3     4\n",
       "4     5\n",
       "dtype: int64"
      ]
     },
     "execution_count": 30,
     "metadata": {},
     "output_type": "execute_result"
    }
   ],
   "source": [
    "pd.concat([A[~A.isin(B)], B[~B.isin(A)]], ignore_index=True)"
   ]
  }
 ],
 "metadata": {
  "kernelspec": {
   "display_name": "Python 3 (ipykernel)",
   "language": "python",
   "name": "python3"
  },
  "language_info": {
   "codemirror_mode": {
    "name": "ipython",
    "version": 3
   },
   "file_extension": ".py",
   "mimetype": "text/x-python",
   "name": "python",
   "nbconvert_exporter": "python",
   "pygments_lexer": "ipython3",
   "version": "3.9.7"
  }
 },
 "nbformat": 4,
 "nbformat_minor": 5
}
