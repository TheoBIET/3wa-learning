{
 "cells": [
  {
   "cell_type": "markdown",
   "id": "9ec9f7dc",
   "metadata": {},
   "source": [
    "## Exercice\n",
    "\n",
    "Affichez toutes les valeurs du premier quartile, puis du second quartile etc."
   ]
  },
  {
   "cell_type": "code",
   "execution_count": 37,
   "id": "0f58f691",
   "metadata": {},
   "outputs": [],
   "source": [
    "import pandas as pd\n",
    "import numpy as np\n",
    "\n",
    "ser = pd.Series(np.random.random(20))"
   ]
  },
  {
   "cell_type": "code",
   "execution_count": 38,
   "id": "eb7ce463",
   "metadata": {},
   "outputs": [],
   "source": [
    "quartile = pd.qcut(ser,\n",
    "    q = [0, 0.25, .5, .75, 1],\n",
    "    labels=[1, 2, 3, 4]\n",
    ")"
   ]
  },
  {
   "cell_type": "code",
   "execution_count": 41,
   "id": "b03e0e5a",
   "metadata": {},
   "outputs": [
    {
     "data": {
      "text/plain": [
       "6     0.057399\n",
       "7     0.037652\n",
       "11    0.399295\n",
       "13    0.169609\n",
       "15    0.253769\n",
       "dtype: float64"
      ]
     },
     "execution_count": 41,
     "metadata": {},
     "output_type": "execute_result"
    }
   ],
   "source": [
    "ser[quartile == 1]"
   ]
  },
  {
   "cell_type": "code",
   "execution_count": 42,
   "id": "ff5f762f",
   "metadata": {},
   "outputs": [
    {
     "data": {
      "text/plain": [
       "0     0.449129\n",
       "10    0.632688\n",
       "16    0.455970\n",
       "18    0.437385\n",
       "19    0.465805\n",
       "dtype: float64"
      ]
     },
     "execution_count": 42,
     "metadata": {},
     "output_type": "execute_result"
    }
   ],
   "source": [
    "ser[quartile == 2]"
   ]
  },
  {
   "cell_type": "code",
   "execution_count": 43,
   "id": "3379f7ae",
   "metadata": {},
   "outputs": [
    {
     "data": {
      "text/plain": [
       "1     0.949683\n",
       "4     0.879748\n",
       "5     0.884492\n",
       "8     0.917569\n",
       "14    0.914484\n",
       "dtype: float64"
      ]
     },
     "execution_count": 43,
     "metadata": {},
     "output_type": "execute_result"
    }
   ],
   "source": [
    "ser[quartile == 3]"
   ]
  },
  {
   "cell_type": "code",
   "execution_count": 45,
   "id": "c03bc310",
   "metadata": {},
   "outputs": [
    {
     "data": {
      "text/plain": [
       "1     0.949683\n",
       "4     0.879748\n",
       "5     0.884492\n",
       "8     0.917569\n",
       "14    0.914484\n",
       "dtype: float64"
      ]
     },
     "execution_count": 45,
     "metadata": {},
     "output_type": "execute_result"
    }
   ],
   "source": [
    "ser[quartile == 4]"
   ]
  }
 ],
 "metadata": {
  "kernelspec": {
   "display_name": "Python 3 (ipykernel)",
   "language": "python",
   "name": "python3"
  },
  "language_info": {
   "codemirror_mode": {
    "name": "ipython",
    "version": 3
   },
   "file_extension": ".py",
   "mimetype": "text/x-python",
   "name": "python",
   "nbconvert_exporter": "python",
   "pygments_lexer": "ipython3",
   "version": "3.9.7"
  }
 },
 "nbformat": 4,
 "nbformat_minor": 5
}
