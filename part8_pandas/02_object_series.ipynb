{
 "cells": [
  {
   "cell_type": "markdown",
   "id": "7b758d51",
   "metadata": {},
   "source": [
    "# Exercice construire des objets de type Séries\n",
    "\n",
    "Créez maintenant un objet de type **Séries** ayant respectivement :\n",
    "\n",
    "- Les valeurs:\n",
    "\n",
    "```python\n",
    "range(1, 12, 2)\n",
    "```\n",
    "\n",
    "- Et les index suivants :\n",
    "\n",
    "```python\n",
    "'abcdef'\n",
    "```"
   ]
  },
  {
   "cell_type": "code",
   "execution_count": 3,
   "id": "e6f25a16",
   "metadata": {},
   "outputs": [
    {
     "data": {
      "text/plain": [
       "a     1\n",
       "b     3\n",
       "c     5\n",
       "d     7\n",
       "e     9\n",
       "f    11\n",
       "dtype: int64"
      ]
     },
     "execution_count": 3,
     "metadata": {},
     "output_type": "execute_result"
    }
   ],
   "source": [
    "import pandas as pd\n",
    "\n",
    "data = pd.Series(range(1, 12, 2), index=list('abcdef'))\n",
    "\n",
    "data"
   ]
  }
 ],
 "metadata": {
  "kernelspec": {
   "display_name": "Python 3 (ipykernel)",
   "language": "python",
   "name": "python3"
  },
  "language_info": {
   "codemirror_mode": {
    "name": "ipython",
    "version": 3
   },
   "file_extension": ".py",
   "mimetype": "text/x-python",
   "name": "python",
   "nbconvert_exporter": "python",
   "pygments_lexer": "ipython3",
   "version": "3.9.7"
  }
 },
 "nbformat": 4,
 "nbformat_minor": 5
}
