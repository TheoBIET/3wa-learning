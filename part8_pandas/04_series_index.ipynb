{
 "cells": [
  {
   "cell_type": "markdown",
   "id": "97e93d35",
   "metadata": {},
   "source": [
    "## Exercice Series & index\n",
    "\n",
    "Associez les index subjects ci-dessous à l'objet **Series** notes et calculez la moyenne générale de ces notes, donnez églament la médiane."
   ]
  },
  {
   "cell_type": "code",
   "execution_count": 17,
   "id": "7eb95b62",
   "metadata": {},
   "outputs": [
    {
     "name": "stdout",
     "output_type": "stream",
     "text": [
      "Databases    13.4\n",
      "Culture      20.0\n",
      "Git          10.0\n",
      "Stat desc    15.0\n",
      "Stat inf     14.0\n",
      "Python       16.0\n",
      "dtype: float64\n"
     ]
    }
   ],
   "source": [
    "import pandas as pd\n",
    "\n",
    "notes = pd.Series([13.4, 20, 10, 15, 14, 16])\n",
    "\n",
    "subjects = [\n",
    "'Databases', 'Culture',\n",
    "'Git', 'Stat desc',\n",
    "'Stat inf', 'Python'\n",
    "]\n",
    "\n",
    "notes.index = subjects\n",
    "\n",
    "print(notes)"
   ]
  },
  {
   "cell_type": "code",
   "execution_count": 22,
   "id": "b46cd24c",
   "metadata": {},
   "outputs": [
    {
     "name": "stdout",
     "output_type": "stream",
     "text": [
      "6.0 14.73 3.29 10.0 13.55 14.5 15.75 20.0\n"
     ]
    }
   ],
   "source": [
    "count, mean, std, minNotes, q1, median, q3, maxNotes = notes.describe().round(2)\n",
    "\n",
    "print(count, mean, std, minNotes, q1, median, q3, maxNotes)"
   ]
  },
  {
   "cell_type": "code",
   "execution_count": null,
   "id": "78fc762d",
   "metadata": {},
   "outputs": [],
   "source": []
  },
  {
   "cell_type": "code",
   "execution_count": 45,
   "id": "fdcdbd5a",
   "metadata": {},
   "outputs": [
    {
     "data": {
      "text/plain": [
       "a    1\n",
       "b    2\n",
       "c    3\n",
       "d    4\n",
       "dtype: int64"
      ]
     },
     "execution_count": 45,
     "metadata": {},
     "output_type": "execute_result"
    }
   ],
   "source": [
    "a = pd.Series([1,2,3, 4], ['a', 'b', 'c', 'd' ])\n",
    "a"
   ]
  },
  {
   "cell_type": "code",
   "execution_count": 46,
   "id": "a0e85497",
   "metadata": {},
   "outputs": [
    {
     "data": {
      "text/plain": [
       "d    4\n",
       "b    2\n",
       "a    1\n",
       "c    3\n",
       "f    4\n",
       "dtype: int64"
      ]
     },
     "execution_count": 46,
     "metadata": {},
     "output_type": "execute_result"
    }
   ],
   "source": [
    "b = a.reindex(['d', 'b', 'a', 'c', 'f'], method='ffill')\n",
    "b"
   ]
  }
 ],
 "metadata": {
  "kernelspec": {
   "display_name": "Python 3 (ipykernel)",
   "language": "python",
   "name": "python3"
  },
  "language_info": {
   "codemirror_mode": {
    "name": "ipython",
    "version": 3
   },
   "file_extension": ".py",
   "mimetype": "text/x-python",
   "name": "python",
   "nbconvert_exporter": "python",
   "pygments_lexer": "ipython3",
   "version": "3.9.7"
  }
 },
 "nbformat": 4,
 "nbformat_minor": 5
}
