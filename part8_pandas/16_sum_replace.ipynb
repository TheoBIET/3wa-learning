{
 "cells": [
  {
   "cell_type": "markdown",
   "id": "153ce2f0",
   "metadata": {},
   "source": [
    "## Exercice somme et remplacement\n",
    "\n",
    "Soit le DataFrame suivant :"
   ]
  },
  {
   "cell_type": "code",
   "execution_count": 75,
   "id": "2adc54e0",
   "metadata": {},
   "outputs": [
    {
     "data": {
      "text/html": [
       "<div>\n",
       "<style scoped>\n",
       "    .dataframe tbody tr th:only-of-type {\n",
       "        vertical-align: middle;\n",
       "    }\n",
       "\n",
       "    .dataframe tbody tr th {\n",
       "        vertical-align: top;\n",
       "    }\n",
       "\n",
       "    .dataframe thead th {\n",
       "        text-align: right;\n",
       "    }\n",
       "</style>\n",
       "<table border=\"1\" class=\"dataframe\">\n",
       "  <thead>\n",
       "    <tr style=\"text-align: right;\">\n",
       "      <th></th>\n",
       "      <th>a</th>\n",
       "      <th>b</th>\n",
       "      <th>c</th>\n",
       "      <th>d</th>\n",
       "      <th>e</th>\n",
       "    </tr>\n",
       "  </thead>\n",
       "  <tbody>\n",
       "    <tr>\n",
       "      <th>f</th>\n",
       "      <td>0.927503</td>\n",
       "      <td>-1.546628</td>\n",
       "      <td>-0.817054</td>\n",
       "      <td>-1.543699</td>\n",
       "      <td>-0.464905</td>\n",
       "    </tr>\n",
       "    <tr>\n",
       "      <th>g</th>\n",
       "      <td>-0.435859</td>\n",
       "      <td>0.182326</td>\n",
       "      <td>0.594094</td>\n",
       "      <td>-0.513762</td>\n",
       "      <td>0.831529</td>\n",
       "    </tr>\n",
       "    <tr>\n",
       "      <th>h</th>\n",
       "      <td>1.962212</td>\n",
       "      <td>-1.475166</td>\n",
       "      <td>-0.083693</td>\n",
       "      <td>-0.371199</td>\n",
       "      <td>0.445821</td>\n",
       "    </tr>\n",
       "    <tr>\n",
       "      <th>i</th>\n",
       "      <td>-2.535374</td>\n",
       "      <td>-0.864202</td>\n",
       "      <td>-0.234370</td>\n",
       "      <td>-0.735963</td>\n",
       "      <td>-1.093418</td>\n",
       "    </tr>\n",
       "    <tr>\n",
       "      <th>j</th>\n",
       "      <td>-2.310366</td>\n",
       "      <td>-0.373314</td>\n",
       "      <td>-0.273919</td>\n",
       "      <td>-0.516406</td>\n",
       "      <td>0.929757</td>\n",
       "    </tr>\n",
       "  </tbody>\n",
       "</table>\n",
       "</div>"
      ],
      "text/plain": [
       "          a         b         c         d         e\n",
       "f  0.927503 -1.546628 -0.817054 -1.543699 -0.464905\n",
       "g -0.435859  0.182326  0.594094 -0.513762  0.831529\n",
       "h  1.962212 -1.475166 -0.083693 -0.371199  0.445821\n",
       "i -2.535374 -0.864202 -0.234370 -0.735963 -1.093418\n",
       "j -2.310366 -0.373314 -0.273919 -0.516406  0.929757"
      ]
     },
     "execution_count": 75,
     "metadata": {},
     "output_type": "execute_result"
    }
   ],
   "source": [
    "import pandas as pd\n",
    "import numpy as np\n",
    "\n",
    "C = pd.DataFrame( np.random.randn(5, 5), columns=list(\"abcde\"), index=list(\"fghij\"))\n",
    "\n",
    "C"
   ]
  },
  {
   "cell_type": "markdown",
   "id": "4164f1a7",
   "metadata": {},
   "source": [
    "1. Faites la somme de toutes les valeurs négatives de C."
   ]
  },
  {
   "cell_type": "code",
   "execution_count": 76,
   "id": "a36adfb0",
   "metadata": {},
   "outputs": [
    {
     "data": {
      "text/plain": [
       "c   -1.409035\n",
       "dtype: float64"
      ]
     },
     "execution_count": 76,
     "metadata": {},
     "output_type": "execute_result"
    }
   ],
   "source": [
    "C[['c']].where(C<0).sum()"
   ]
  },
  {
   "cell_type": "markdown",
   "id": "37a834a8",
   "metadata": {},
   "source": [
    "2. Remplacez dans la colonne b les valeurs négatives par la moyenne des valeurs positives de la colonne."
   ]
  },
  {
   "cell_type": "code",
   "execution_count": 77,
   "id": "899a8a45",
   "metadata": {},
   "outputs": [
    {
     "data": {
      "text/html": [
       "<div>\n",
       "<style scoped>\n",
       "    .dataframe tbody tr th:only-of-type {\n",
       "        vertical-align: middle;\n",
       "    }\n",
       "\n",
       "    .dataframe tbody tr th {\n",
       "        vertical-align: top;\n",
       "    }\n",
       "\n",
       "    .dataframe thead th {\n",
       "        text-align: right;\n",
       "    }\n",
       "</style>\n",
       "<table border=\"1\" class=\"dataframe\">\n",
       "  <thead>\n",
       "    <tr style=\"text-align: right;\">\n",
       "      <th></th>\n",
       "      <th>a</th>\n",
       "      <th>b</th>\n",
       "      <th>c</th>\n",
       "      <th>d</th>\n",
       "      <th>e</th>\n",
       "    </tr>\n",
       "  </thead>\n",
       "  <tbody>\n",
       "    <tr>\n",
       "      <th>f</th>\n",
       "      <td>0.927503</td>\n",
       "      <td>0.182326</td>\n",
       "      <td>-0.817054</td>\n",
       "      <td>-1.543699</td>\n",
       "      <td>-0.464905</td>\n",
       "    </tr>\n",
       "    <tr>\n",
       "      <th>g</th>\n",
       "      <td>-0.435859</td>\n",
       "      <td>0.182326</td>\n",
       "      <td>0.594094</td>\n",
       "      <td>-0.513762</td>\n",
       "      <td>0.831529</td>\n",
       "    </tr>\n",
       "    <tr>\n",
       "      <th>h</th>\n",
       "      <td>1.962212</td>\n",
       "      <td>0.182326</td>\n",
       "      <td>-0.083693</td>\n",
       "      <td>-0.371199</td>\n",
       "      <td>0.445821</td>\n",
       "    </tr>\n",
       "    <tr>\n",
       "      <th>i</th>\n",
       "      <td>-2.535374</td>\n",
       "      <td>0.182326</td>\n",
       "      <td>-0.234370</td>\n",
       "      <td>-0.735963</td>\n",
       "      <td>-1.093418</td>\n",
       "    </tr>\n",
       "    <tr>\n",
       "      <th>j</th>\n",
       "      <td>-2.310366</td>\n",
       "      <td>0.182326</td>\n",
       "      <td>-0.273919</td>\n",
       "      <td>-0.516406</td>\n",
       "      <td>0.929757</td>\n",
       "    </tr>\n",
       "  </tbody>\n",
       "</table>\n",
       "</div>"
      ],
      "text/plain": [
       "          a         b         c         d         e\n",
       "f  0.927503  0.182326 -0.817054 -1.543699 -0.464905\n",
       "g -0.435859  0.182326  0.594094 -0.513762  0.831529\n",
       "h  1.962212  0.182326 -0.083693 -0.371199  0.445821\n",
       "i -2.535374  0.182326 -0.234370 -0.735963 -1.093418\n",
       "j -2.310366  0.182326 -0.273919 -0.516406  0.929757"
      ]
     },
     "execution_count": 77,
     "metadata": {},
     "output_type": "execute_result"
    }
   ],
   "source": [
    "pos_mean = C[['b']].where(C>0).mean()[0]\n",
    "\n",
    "C.loc[C['b'] < 0, 'b'] = pos_mean\n",
    "\n",
    "C"
   ]
  }
 ],
 "metadata": {
  "kernelspec": {
   "display_name": "Python 3 (ipykernel)",
   "language": "python",
   "name": "python3"
  },
  "language_info": {
   "codemirror_mode": {
    "name": "ipython",
    "version": 3
   },
   "file_extension": ".py",
   "mimetype": "text/x-python",
   "name": "python",
   "nbconvert_exporter": "python",
   "pygments_lexer": "ipython3",
   "version": "3.9.7"
  }
 },
 "nbformat": 4,
 "nbformat_minor": 5
}
