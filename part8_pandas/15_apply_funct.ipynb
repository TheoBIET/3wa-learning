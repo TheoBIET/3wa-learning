{
 "cells": [
  {
   "cell_type": "markdown",
   "id": "c2cef370",
   "metadata": {},
   "source": [
    "## Exercice appliquer une fonction à un DataFrame\n",
    "\n",
    "Soit le DataFrame C suivant :"
   ]
  },
  {
   "cell_type": "code",
   "execution_count": 10,
   "id": "f8229504",
   "metadata": {},
   "outputs": [
    {
     "data": {
      "text/html": [
       "<div>\n",
       "<style scoped>\n",
       "    .dataframe tbody tr th:only-of-type {\n",
       "        vertical-align: middle;\n",
       "    }\n",
       "\n",
       "    .dataframe tbody tr th {\n",
       "        vertical-align: top;\n",
       "    }\n",
       "\n",
       "    .dataframe thead th {\n",
       "        text-align: right;\n",
       "    }\n",
       "</style>\n",
       "<table border=\"1\" class=\"dataframe\">\n",
       "  <thead>\n",
       "    <tr style=\"text-align: right;\">\n",
       "      <th></th>\n",
       "      <th>a</th>\n",
       "      <th>b</th>\n",
       "      <th>c</th>\n",
       "      <th>d</th>\n",
       "      <th>e</th>\n",
       "    </tr>\n",
       "  </thead>\n",
       "  <tbody>\n",
       "    <tr>\n",
       "      <th>f</th>\n",
       "      <td>0.341826</td>\n",
       "      <td>-0.785203</td>\n",
       "      <td>-0.935189</td>\n",
       "      <td>-0.499722</td>\n",
       "      <td>-1.317138</td>\n",
       "    </tr>\n",
       "    <tr>\n",
       "      <th>g</th>\n",
       "      <td>0.583402</td>\n",
       "      <td>-1.194567</td>\n",
       "      <td>2.080981</td>\n",
       "      <td>0.298853</td>\n",
       "      <td>0.042853</td>\n",
       "    </tr>\n",
       "    <tr>\n",
       "      <th>h</th>\n",
       "      <td>-1.126768</td>\n",
       "      <td>-1.242686</td>\n",
       "      <td>-0.106537</td>\n",
       "      <td>-0.083264</td>\n",
       "      <td>-0.903115</td>\n",
       "    </tr>\n",
       "    <tr>\n",
       "      <th>i</th>\n",
       "      <td>-0.662757</td>\n",
       "      <td>0.877555</td>\n",
       "      <td>0.809306</td>\n",
       "      <td>-1.726019</td>\n",
       "      <td>0.245988</td>\n",
       "    </tr>\n",
       "    <tr>\n",
       "      <th>j</th>\n",
       "      <td>1.052968</td>\n",
       "      <td>2.363771</td>\n",
       "      <td>-1.952307</td>\n",
       "      <td>1.441065</td>\n",
       "      <td>0.446974</td>\n",
       "    </tr>\n",
       "  </tbody>\n",
       "</table>\n",
       "</div>"
      ],
      "text/plain": [
       "          a         b         c         d         e\n",
       "f  0.341826 -0.785203 -0.935189 -0.499722 -1.317138\n",
       "g  0.583402 -1.194567  2.080981  0.298853  0.042853\n",
       "h -1.126768 -1.242686 -0.106537 -0.083264 -0.903115\n",
       "i -0.662757  0.877555  0.809306 -1.726019  0.245988\n",
       "j  1.052968  2.363771 -1.952307  1.441065  0.446974"
      ]
     },
     "execution_count": 10,
     "metadata": {},
     "output_type": "execute_result"
    }
   ],
   "source": [
    "import pandas as pd\n",
    "import numpy as np\n",
    "\n",
    "C = pd.DataFrame( np.random.randn(5, 5), columns=list(\"abcde\"), index=list(\"fghij\" ))\n",
    "\n",
    "C"
   ]
  },
  {
   "cell_type": "markdown",
   "id": "081f5406",
   "metadata": {},
   "source": [
    "1. Mettez l'ensemble des valeurs en valeur absolue. Utilisez la fonction np.abs de Numpy."
   ]
  },
  {
   "cell_type": "code",
   "execution_count": 11,
   "id": "9809b10b",
   "metadata": {},
   "outputs": [
    {
     "data": {
      "text/html": [
       "<div>\n",
       "<style scoped>\n",
       "    .dataframe tbody tr th:only-of-type {\n",
       "        vertical-align: middle;\n",
       "    }\n",
       "\n",
       "    .dataframe tbody tr th {\n",
       "        vertical-align: top;\n",
       "    }\n",
       "\n",
       "    .dataframe thead th {\n",
       "        text-align: right;\n",
       "    }\n",
       "</style>\n",
       "<table border=\"1\" class=\"dataframe\">\n",
       "  <thead>\n",
       "    <tr style=\"text-align: right;\">\n",
       "      <th></th>\n",
       "      <th>a</th>\n",
       "      <th>b</th>\n",
       "      <th>c</th>\n",
       "      <th>d</th>\n",
       "      <th>e</th>\n",
       "    </tr>\n",
       "  </thead>\n",
       "  <tbody>\n",
       "    <tr>\n",
       "      <th>f</th>\n",
       "      <td>0.341826</td>\n",
       "      <td>0.785203</td>\n",
       "      <td>0.935189</td>\n",
       "      <td>0.499722</td>\n",
       "      <td>1.317138</td>\n",
       "    </tr>\n",
       "    <tr>\n",
       "      <th>g</th>\n",
       "      <td>0.583402</td>\n",
       "      <td>1.194567</td>\n",
       "      <td>2.080981</td>\n",
       "      <td>0.298853</td>\n",
       "      <td>0.042853</td>\n",
       "    </tr>\n",
       "    <tr>\n",
       "      <th>h</th>\n",
       "      <td>1.126768</td>\n",
       "      <td>1.242686</td>\n",
       "      <td>0.106537</td>\n",
       "      <td>0.083264</td>\n",
       "      <td>0.903115</td>\n",
       "    </tr>\n",
       "    <tr>\n",
       "      <th>i</th>\n",
       "      <td>0.662757</td>\n",
       "      <td>0.877555</td>\n",
       "      <td>0.809306</td>\n",
       "      <td>1.726019</td>\n",
       "      <td>0.245988</td>\n",
       "    </tr>\n",
       "    <tr>\n",
       "      <th>j</th>\n",
       "      <td>1.052968</td>\n",
       "      <td>2.363771</td>\n",
       "      <td>1.952307</td>\n",
       "      <td>1.441065</td>\n",
       "      <td>0.446974</td>\n",
       "    </tr>\n",
       "  </tbody>\n",
       "</table>\n",
       "</div>"
      ],
      "text/plain": [
       "          a         b         c         d         e\n",
       "f  0.341826  0.785203  0.935189  0.499722  1.317138\n",
       "g  0.583402  1.194567  2.080981  0.298853  0.042853\n",
       "h  1.126768  1.242686  0.106537  0.083264  0.903115\n",
       "i  0.662757  0.877555  0.809306  1.726019  0.245988\n",
       "j  1.052968  2.363771  1.952307  1.441065  0.446974"
      ]
     },
     "execution_count": 11,
     "metadata": {},
     "output_type": "execute_result"
    }
   ],
   "source": [
    "C = np.abs(C)\n",
    "\n",
    "C"
   ]
  },
  {
   "cell_type": "markdown",
   "id": "bbd9d0bd",
   "metadata": {},
   "source": [
    "\n",
    "2. Calculez l'amplitude des valeurs sur les lignes puis les colonnes. Vous pouvez utiliser la fonction apply sur le DataFrame."
   ]
  },
  {
   "cell_type": "code",
   "execution_count": 19,
   "id": "902266b3",
   "metadata": {},
   "outputs": [
    {
     "data": {
      "text/plain": [
       "a    0.784942\n",
       "b    1.578569\n",
       "c    1.974445\n",
       "d    1.642755\n",
       "e    1.274285\n",
       "dtype: float64"
      ]
     },
     "execution_count": 19,
     "metadata": {},
     "output_type": "execute_result"
    }
   ],
   "source": [
    "C.apply(lambda x: np.max(x) - np.min(x))"
   ]
  },
  {
   "cell_type": "code",
   "execution_count": 20,
   "id": "7505ba41",
   "metadata": {},
   "outputs": [
    {
     "data": {
      "text/plain": [
       "f    0.975312\n",
       "g    2.038128\n",
       "h    1.159422\n",
       "i    1.480030\n",
       "j    1.916797\n",
       "dtype: float64"
      ]
     },
     "execution_count": 20,
     "metadata": {},
     "output_type": "execute_result"
    }
   ],
   "source": [
    "C.T.apply(lambda x: np.max(x) - np.min(x))"
   ]
  }
 ],
 "metadata": {
  "kernelspec": {
   "display_name": "Python 3 (ipykernel)",
   "language": "python",
   "name": "python3"
  },
  "language_info": {
   "codemirror_mode": {
    "name": "ipython",
    "version": 3
   },
   "file_extension": ".py",
   "mimetype": "text/x-python",
   "name": "python",
   "nbconvert_exporter": "python",
   "pygments_lexer": "ipython3",
   "version": "3.9.7"
  }
 },
 "nbformat": 4,
 "nbformat_minor": 5
}
