{
 "cells": [
  {
   "cell_type": "markdown",
   "id": "3e5bd078",
   "metadata": {},
   "source": [
    "## Exercice apply\n",
    "\n",
    "La méthode apply sur une série Pandas permet d'appliquer une fonction ou une lambda afin d'effectuer un calcul sur ses éléments.\n",
    "\n",
    "1. En utilisant une fonction lambda, mettez les premières lettres en majuscules de chaques prénoms ci-dessous :"
   ]
  },
  {
   "cell_type": "code",
   "execution_count": 23,
   "id": "8d42c347",
   "metadata": {},
   "outputs": [],
   "source": [
    "import pandas as pd\n",
    "\n",
    "firstName = pd.Series([\n",
    "    'adaline Reichel',\n",
    "    'dr. Santa Prosacco DVM',\n",
    "    'noemy Vandervort V',\n",
    "    'lexi O Conner',\n",
    "    'gracie Weber',\n",
    "    'roscoe Johns',\n",
    "    'emmett Lebsack',\n",
    "    'keegan Thiel',\n",
    "    'wellington Koelpin II',\n",
    "    'ms. Karley Kiehn V',\n",
    "])"
   ]
  },
  {
   "cell_type": "code",
   "execution_count": 30,
   "id": "36cf6df0",
   "metadata": {},
   "outputs": [
    {
     "data": {
      "text/plain": [
       "0           Adaline Reichel\n",
       "1    Dr. Santa Prosacco DVM\n",
       "2        Noemy Vandervort V\n",
       "3             Lexi O Conner\n",
       "4              Gracie Weber\n",
       "5              Roscoe Johns\n",
       "6            Emmett Lebsack\n",
       "7              Keegan Thiel\n",
       "8     Wellington Koelpin II\n",
       "9        Ms. Karley Kiehn V\n",
       "dtype: object"
      ]
     },
     "execution_count": 30,
     "metadata": {},
     "output_type": "execute_result"
    }
   ],
   "source": [
    "space = ' '\n",
    "\n",
    "firstName.apply(lambda x: x[0].upper() + x[1:])"
   ]
  },
  {
   "cell_type": "markdown",
   "id": "272e281a",
   "metadata": {},
   "source": [
    "2. Si dans la string, il y a un 'o', les mettre en majuscule, sinon mettre la string en majuscule"
   ]
  },
  {
   "cell_type": "code",
   "execution_count": 29,
   "id": "dc362b75",
   "metadata": {},
   "outputs": [
    {
     "data": {
      "text/plain": [
       "0           ADALINE REICHEL\n",
       "1    dr. Santa PrOsaccO DVM\n",
       "2        nOemy VandervOrt V\n",
       "3             lexi O COnner\n",
       "4              GRACIE WEBER\n",
       "5              rOscOe JOhns\n",
       "6            EMMETT LEBSACK\n",
       "7              KEEGAN THIEL\n",
       "8     wellingtOn KOelpin II\n",
       "9        MS. KARLEY KIEHN V\n",
       "dtype: object"
      ]
     },
     "execution_count": 29,
     "metadata": {},
     "output_type": "execute_result"
    }
   ],
   "source": [
    "firstName.apply(lambda x: x.replace('o', 'O') if 'o' in x else x.upper() )"
   ]
  }
 ],
 "metadata": {
  "kernelspec": {
   "display_name": "Python 3 (ipykernel)",
   "language": "python",
   "name": "python3"
  },
  "language_info": {
   "codemirror_mode": {
    "name": "ipython",
    "version": 3
   },
   "file_extension": ".py",
   "mimetype": "text/x-python",
   "name": "python",
   "nbconvert_exporter": "python",
   "pygments_lexer": "ipython3",
   "version": "3.9.7"
  }
 },
 "nbformat": 4,
 "nbformat_minor": 5
}
