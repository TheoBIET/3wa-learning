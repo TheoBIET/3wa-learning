{
 "cells": [
  {
   "cell_type": "markdown",
   "id": "cdc31ca7",
   "metadata": {},
   "source": [
    "## Exercice changez les index\n",
    "\n",
    "Dans l'objet **Series** suivant :"
   ]
  },
  {
   "cell_type": "code",
   "execution_count": 23,
   "id": "b85dd35d",
   "metadata": {},
   "outputs": [],
   "source": [
    "import pandas as pd\n",
    "\n",
    "cities =  pd.Series({\n",
    "    'Bordeaux' : 249712,\n",
    "    'Paris' : 2190327,\n",
    "    'Lille' : 232741\n",
    "})"
   ]
  },
  {
   "cell_type": "markdown",
   "id": "bace0f28",
   "metadata": {},
   "source": [
    "Mettez les codes respectifs des départements à la place des noms des villes dans la **Series** **cities**.\n",
    "\n",
    "Bordeaux : 33, Paris : 75, Lille : 59"
   ]
  },
  {
   "cell_type": "code",
   "execution_count": 24,
   "id": "6205bb78",
   "metadata": {},
   "outputs": [
    {
     "data": {
      "text/plain": [
       "33     249712\n",
       "75    2190327\n",
       "59     232741\n",
       "dtype: int64"
      ]
     },
     "execution_count": 24,
     "metadata": {},
     "output_type": "execute_result"
    }
   ],
   "source": [
    "cities = cities.rename(index={\"Bordeaux\": 33, \"Paris\": 75, \"Lille\" : 59})\n",
    "# cities.index = [33, 75, 59]\n",
    "cities"
   ]
  },
  {
   "cell_type": "markdown",
   "id": "38d7796d",
   "metadata": {},
   "source": [
    "Puis sélectionnez uniquement les villes dont la population est supérieure à 2 000 000."
   ]
  },
  {
   "cell_type": "code",
   "execution_count": 25,
   "id": "9970d76b",
   "metadata": {},
   "outputs": [
    {
     "data": {
      "text/plain": [
       "75    2190327\n",
       "dtype: int64"
      ]
     },
     "execution_count": 25,
     "metadata": {},
     "output_type": "execute_result"
    }
   ],
   "source": [
    "cities[cities > 2_000_000]"
   ]
  },
  {
   "cell_type": "markdown",
   "id": "e311368f",
   "metadata": {},
   "source": [
    "La population de chaque ville augmente de 10%, appliquez ce changement sur le dataset."
   ]
  },
  {
   "cell_type": "code",
   "execution_count": 29,
   "id": "d4d946fb",
   "metadata": {},
   "outputs": [
    {
     "data": {
      "text/plain": [
       "33     302151.52\n",
       "75    2650295.67\n",
       "59     281616.61\n",
       "dtype: float64"
      ]
     },
     "execution_count": 29,
     "metadata": {},
     "output_type": "execute_result"
    }
   ],
   "source": [
    "cities = cities * 1.1\n",
    "cities"
   ]
  }
 ],
 "metadata": {
  "kernelspec": {
   "display_name": "Python 3 (ipykernel)",
   "language": "python",
   "name": "python3"
  },
  "language_info": {
   "codemirror_mode": {
    "name": "ipython",
    "version": 3
   },
   "file_extension": ".py",
   "mimetype": "text/x-python",
   "name": "python",
   "nbconvert_exporter": "python",
   "pygments_lexer": "ipython3",
   "version": "3.9.7"
  }
 },
 "nbformat": 4,
 "nbformat_minor": 5
}
