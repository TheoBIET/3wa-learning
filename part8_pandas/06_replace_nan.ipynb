{
 "cells": [
  {
   "cell_type": "markdown",
   "id": "ec8f3a14",
   "metadata": {},
   "source": [
    "## Exercice remplacer np.nan\n",
    "\n",
    "Remplacez les valeurs np.nan par la moyenne de la série numbers."
   ]
  },
  {
   "cell_type": "code",
   "execution_count": 4,
   "id": "e96cc0f8",
   "metadata": {},
   "outputs": [
    {
     "data": {
      "text/plain": [
       "0    12.0\n",
       "1     6.0\n",
       "2     8.0\n",
       "3    19.0\n",
       "4    10.0\n",
       "5     NaN\n",
       "6    14.0\n",
       "7     NaN\n",
       "dtype: float64"
      ]
     },
     "execution_count": 4,
     "metadata": {},
     "output_type": "execute_result"
    }
   ],
   "source": [
    "import pandas as pd\n",
    "import numpy as np\n",
    "\n",
    "numbers = pd.Series( [12,6,8,19, 10, np.nan , 14, np.nan] )\n",
    "\n",
    "numbers"
   ]
  },
  {
   "cell_type": "code",
   "execution_count": 5,
   "id": "9c82b3d8",
   "metadata": {},
   "outputs": [
    {
     "data": {
      "text/plain": [
       "0    12.0\n",
       "1     6.0\n",
       "2     8.0\n",
       "3    19.0\n",
       "4    10.0\n",
       "5    11.5\n",
       "6    14.0\n",
       "7    11.5\n",
       "dtype: float64"
      ]
     },
     "execution_count": 5,
     "metadata": {},
     "output_type": "execute_result"
    }
   ],
   "source": [
    "numbers.fillna(numbers.mean())"
   ]
  }
 ],
 "metadata": {
  "kernelspec": {
   "display_name": "Python 3 (ipykernel)",
   "language": "python",
   "name": "python3"
  },
  "language_info": {
   "codemirror_mode": {
    "name": "ipython",
    "version": 3
   },
   "file_extension": ".py",
   "mimetype": "text/x-python",
   "name": "python",
   "nbconvert_exporter": "python",
   "pygments_lexer": "ipython3",
   "version": "3.9.7"
  }
 },
 "nbformat": 4,
 "nbformat_minor": 5
}
