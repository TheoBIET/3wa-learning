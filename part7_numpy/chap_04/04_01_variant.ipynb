{
 "cells": [
  {
   "cell_type": "markdown",
   "id": "18539e5b",
   "metadata": {},
   "source": [
    "# Chapitre 4 - Calcul de la variance"
   ]
  },
  {
   "cell_type": "code",
   "execution_count": 2,
   "id": "082e83f3",
   "metadata": {},
   "outputs": [],
   "source": [
    "import numpy as np"
   ]
  },
  {
   "cell_type": "markdown",
   "id": "57172ce6",
   "metadata": {},
   "source": [
    "1. Soit la série statistique suivante :"
   ]
  },
  {
   "cell_type": "code",
   "execution_count": 16,
   "id": "f57da6ce",
   "metadata": {},
   "outputs": [],
   "source": [
    "notes = np.array([7, 9, 11, 12, 13, 15])"
   ]
  },
  {
   "cell_type": "markdown",
   "id": "510e9196",
   "metadata": {},
   "source": [
    "Ecrire un script en Python qui permet de calculer la variance de cette série. Pensez à utiliser numpy."
   ]
  },
  {
   "cell_type": "code",
   "execution_count": 22,
   "id": "2733f4ab",
   "metadata": {},
   "outputs": [
    {
     "name": "stdout",
     "output_type": "stream",
     "text": [
      "6.81\n"
     ]
    },
    {
     "data": {
      "text/plain": [
       "2.608745973749755"
      ]
     },
     "execution_count": 22,
     "metadata": {},
     "output_type": "execute_result"
    }
   ],
   "source": [
    "avg = np.mean(notes)\n",
    "\n",
    "v = np.around(np.sum((notes - avg)**2) / notes.size, 2)\n",
    "\n",
    "print(v)\n",
    "\n",
    "np.sqrt(np.var(notes))"
   ]
  },
  {
   "cell_type": "markdown",
   "id": "2ae71a08",
   "metadata": {},
   "source": [
    "2. Soit le tableau de notes d'une classe suivant :"
   ]
  },
  {
   "cell_type": "code",
   "execution_count": 25,
   "id": "ea763e3e",
   "metadata": {},
   "outputs": [
    {
     "data": {
      "text/plain": [
       "array([( 7.,  5), ( 9.,  4), (11., 21), (12., 35), (13., 32), (15.,  3)],\n",
       "      dtype=[('note', '<f8'), ('effectif', '<i8')])"
      ]
     },
     "execution_count": 25,
     "metadata": {},
     "output_type": "execute_result"
    }
   ],
   "source": [
    "note_students = np.array([(7, 5), (9, 4), (11, 21), (12, 35), (13, 32), (15, 3)], \n",
    "    dtype=np.dtype([\n",
    "        ('note', np.dtype('f8')),\n",
    "        ('effectif', np.dtype('i8')),\n",
    "    ])\n",
    ")"
   ]
  },
  {
   "cell_type": "markdown",
   "id": "7cf59288",
   "metadata": {},
   "source": [
    "2.1 Calculez la moyenne des notes de cette classe."
   ]
  },
  {
   "cell_type": "code",
   "execution_count": 29,
   "id": "c81a2d10",
   "metadata": {},
   "outputs": [
    {
     "data": {
      "text/plain": [
       "11.83"
      ]
     },
     "execution_count": 29,
     "metadata": {},
     "output_type": "execute_result"
    }
   ],
   "source": [
    "np.sum(note_students['note'] * note_students['effectif']) / note_students['effectif'].sum()"
   ]
  },
  {
   "cell_type": "markdown",
   "id": "44ef229a",
   "metadata": {},
   "source": [
    "2.2 Déterminez la médiane. Faites un script en Python."
   ]
  },
  {
   "cell_type": "code",
   "execution_count": 44,
   "id": "b685e9f2",
   "metadata": {},
   "outputs": [
    {
     "data": {
      "text/plain": [
       "12.0"
      ]
     },
     "execution_count": 44,
     "metadata": {},
     "output_type": "execute_result"
    }
   ],
   "source": [
    "def median(numbers):\n",
    "    i = len(numbers)//2\n",
    "    if len(numbers) % 2 == 1:\n",
    "        return numbers[i]\n",
    "    return (numbers[i] + numbers[i + 1]) / 2.\n",
    "\n",
    "e = list(note_students['effectif'])\n",
    "n = np.array([ notes[i]  for i,n in enumerate(e) for a in range(n)])\n",
    "\n",
    "median(n)"
   ]
  },
  {
   "cell_type": "markdown",
   "id": "5a12984c",
   "metadata": {},
   "source": [
    "2.3 Déterminez la variance. Utilisez le code précédent en Python pour calculer la variance."
   ]
  },
  {
   "cell_type": "code",
   "execution_count": 47,
   "id": "20d41270",
   "metadata": {},
   "outputs": [
    {
     "name": "stdout",
     "output_type": "stream",
     "text": [
      "2.3811\n"
     ]
    }
   ],
   "source": [
    "x = np.mean(n)\n",
    "v = np.sum((n - x)**2 / len(n))\n",
    "print(v)"
   ]
  },
  {
   "cell_type": "markdown",
   "id": "11c73359",
   "metadata": {},
   "source": [
    "2.4 On définit l'écart type comme étant la racine de la variance. Calculez l'écart type des notes de cette classe."
   ]
  },
  {
   "cell_type": "code",
   "execution_count": 49,
   "id": "48419082",
   "metadata": {},
   "outputs": [
    {
     "name": "stdout",
     "output_type": "stream",
     "text": [
      "1.5430813329180026\n"
     ]
    },
    {
     "data": {
      "text/plain": [
       "1.5430813329180026"
      ]
     },
     "execution_count": 49,
     "metadata": {},
     "output_type": "execute_result"
    }
   ],
   "source": [
    "std = np.std(n)\n",
    "print(std)\n",
    "np.sqrt(v)"
   ]
  },
  {
   "cell_type": "markdown",
   "id": "b434c1f4",
   "metadata": {},
   "source": [
    "3. L'enseignant augment toutes les notes de 1 point. Quelle conséquence cela a pour les calculs précédents ?"
   ]
  },
  {
   "cell_type": "code",
   "execution_count": 53,
   "id": "7296a143",
   "metadata": {},
   "outputs": [
    {
     "name": "stdout",
     "output_type": "stream",
     "text": [
      "[ 9  9  9  9  9 11 11 11 11 13 13 13 13 13 13 13 13 13 13 13 13 13 13 13\n",
      " 13 13 13 13 13 13 14 14 14 14 14 14 14 14 14 14 14 14 14 14 14 14 14 14\n",
      " 14 14 14 14 14 14 14 14 14 14 14 14 14 14 14 14 14 15 15 15 15 15 15 15\n",
      " 15 15 15 15 15 15 15 15 15 15 15 15 15 15 15 15 15 15 15 15 15 15 15 15\n",
      " 15 17 17 17]\n",
      "2.3811\n",
      "1.5430813329180026\n",
      "14.0\n"
     ]
    }
   ],
   "source": [
    "new_note = n + 1\n",
    "\n",
    "print(new_note)\n",
    "\n",
    "x = np.mean(n)\n",
    "v = np.sum((n - x)**2 / len(n))\n",
    "print(v)\n",
    "\n",
    "std = np.std(n)\n",
    "print(std)\n",
    "np.sqrt(v)\n",
    "\n",
    "print(median(new_note))"
   ]
  }
 ],
 "metadata": {
  "kernelspec": {
   "display_name": "Python 3 (ipykernel)",
   "language": "python",
   "name": "python3"
  },
  "language_info": {
   "codemirror_mode": {
    "name": "ipython",
    "version": 3
   },
   "file_extension": ".py",
   "mimetype": "text/x-python",
   "name": "python",
   "nbconvert_exporter": "python",
   "pygments_lexer": "ipython3",
   "version": "3.9.7"
  }
 },
 "nbformat": 4,
 "nbformat_minor": 5
}
