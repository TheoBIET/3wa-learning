{
 "cells": [
  {
   "cell_type": "markdown",
   "id": "088d03ef",
   "metadata": {},
   "source": [
    "# Chapitre 4. - Notes en statistique\n",
    "\n"
   ]
  },
  {
   "cell_type": "code",
   "execution_count": 4,
   "id": "3be3634a",
   "metadata": {},
   "outputs": [],
   "source": [
    "import numpy as np\n",
    "import csv\n",
    "import matplotlib.pyplot as plt"
   ]
  },
  {
   "cell_type": "markdown",
   "id": "a0546f46",
   "metadata": {},
   "source": [
    "Récupérez le dataset **note_statistiques.csv**"
   ]
  },
  {
   "cell_type": "code",
   "execution_count": 19,
   "id": "dad227aa",
   "metadata": {},
   "outputs": [
    {
     "name": "stdout",
     "output_type": "stream",
     "text": [
      "[( 1., 0., nan, (nan, nan)) ( 2., 2., nan, (nan, nan))\n",
      " ( 3., 0., nan, (nan, nan)) ( 4., 1., nan, (nan, nan))\n",
      " ( 5., 0., nan, (nan, nan)) ( 6., 1., nan, (nan, nan))\n",
      " ( 7., 0., nan, (nan, nan)) ( 8., 1., nan, (nan, nan))\n",
      " ( 9., 1., nan, (nan, nan)) (10., 7., nan, (nan, nan))\n",
      " (11., 2., nan, (nan, nan)) (12., 3., nan, (nan, nan))\n",
      " (13., 1., nan, (nan, nan)) (14., 1., nan, (nan, nan))\n",
      " (15., 1., nan, (nan, nan)) (16., 2., nan, (nan, nan))\n",
      " (17., 0., nan, (nan, nan)) (18., 1., nan, (nan, nan))\n",
      " (19., 0., nan, (nan, nan)) (20., 1., nan, (nan, nan))]\n"
     ]
    }
   ],
   "source": [
    "with open ('./notes_statistiques.csv', 'r') as f:\n",
    "    data_reader = csv.reader(f, delimiter=',', quotechar='\"')\n",
    "    data = [(d[0], d[1], np.nan, np.nan) for d in data_reader if d[0] != '0'][1:]\n",
    "    \n",
    "data = np.array(data, dtype=np.dtype([\n",
    "    ('Notes', np.dtype('f8')),\n",
    "    ('Effectif', np.dtype('f8')),\n",
    "    ('Frequence', np.dtype('f4')),\n",
    "    ('Notes_bin', np.dtype(\n",
    "        [('min', np.dtype('f8')), ('max', np.dtype('f8'))])),\n",
    "]))\n",
    "\n",
    "print(data)"
   ]
  },
  {
   "cell_type": "markdown",
   "id": "7cabdfe1",
   "metadata": {},
   "source": [
    "Faite un diagramme en baton des notes en statistiques."
   ]
  },
  {
   "cell_type": "code",
   "execution_count": 21,
   "id": "1fd797eb",
   "metadata": {},
   "outputs": [
    {
     "data": {
      "image/png": "[encoded data removed]",
      "text/plain": [
       "<Figure size 432x288 with 1 Axes>"
      ]
     },
     "metadata": {
      "needs_background": "light"
     },
     "output_type": "display_data"
    }
   ],
   "source": [
    "total = data.size\n",
    "m = int(np.max(data['Notes']))\n",
    "\n",
    "fig = plt.figure()\n",
    "\n",
    "width = 0.5\n",
    "\n",
    "plt.bar(data['Notes'], data['Effectif'], width, color='b')\n",
    "\n",
    "plt.show()"
   ]
  },
  {
   "cell_type": "markdown",
   "id": "e3fadabd",
   "metadata": {},
   "source": [
    "1. Calculez les fréquences des notes. Ajoutez un argument à votre tableau numpy.\n",
    "2. Faites maintenant des classes de valeurs de largeur 4 pour les notes, ajoutez un argument Notes_bin dans votre tableau."
   ]
  },
  {
   "cell_type": "code",
   "execution_count": 23,
   "id": "9e08076e",
   "metadata": {},
   "outputs": [
    {
     "data": {
      "image/png": "[encoded data removed]",
      "text/plain": [
       "<Figure size 432x288 with 1 Axes>"
      ]
     },
     "metadata": {
      "needs_background": "light"
     },
     "output_type": "display_data"
    }
   ],
   "source": [
    "group = {}\n",
    "for i in range(0, 20, 4):           \n",
    "    mask = (data['Notes'] >= i) & (data['Notes'] < i + 4.)\n",
    "    group[f'{i}-{i+4}'] = mask.sum()\n",
    "    data['Notes_bin'][mask] = (i, i + 4.)\n",
    "\n",
    "fig = plt.figure()\n",
    "\n",
    "width = 0.5\n",
    "\n",
    "plt.bar( group.keys(), group.values(), width, color='b' )\n",
    "\n",
    "plt.show()"
   ]
  }
 ],
 "metadata": {
  "kernelspec": {
   "display_name": "Python 3 (ipykernel)",
   "language": "python",
   "name": "python3"
  },
  "language_info": {
   "codemirror_mode": {
    "name": "ipython",
    "version": 3
   },
   "file_extension": ".py",
   "mimetype": "text/x-python",
   "name": "python",
   "nbconvert_exporter": "python",
   "pygments_lexer": "ipython3",
   "version": "3.9.7"
  }
 },
 "nbformat": 4,
 "nbformat_minor": 5
}
