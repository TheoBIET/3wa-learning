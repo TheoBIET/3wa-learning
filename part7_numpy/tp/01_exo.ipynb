{
 "cells": [
  {
   "cell_type": "markdown",
   "id": "232a110c",
   "metadata": {},
   "source": [
    "Soit x1 le tableau suivant :\n",
    "\n",
    "1. Affichez la première ligne du tableau x1.\n",
    "\n",
    "2. Affichez la deuxième colonne.\n",
    "\n",
    "```python\n",
    "x1 = np.array([[9, 1, 2],\n",
    "       [8, 0, 2],\n",
    "       [5, 1, 5]])\n",
    "```\n",
    "\n",
    "3. Faites la somme des lignes puis des colonnes.\n",
    "\n",
    "4. Reprenez le tableax x1 et faite la somme de chaque colonne que vous placerez dans un tuple : (c1, c2, c3).\n",
    "\n",
    "5. Même consigne mais maintenant pour les lignes : (l1, l2, l3).\n",
    "\n",
    "Soit maintenant un tableau 3d 2x2x2\n",
    "\n",
    "```python\n",
    "\n",
    "x2 = array([ \n",
    "    [ [8, 4],[8, 9] ],\n",
    "    [ [3, 0],[5, 0] ] \n",
    "])\n",
    "\n",
    "```\n",
    "\n",
    "6. Faites la somme selon l'axe axis = 0\n",
    "\n",
    "7. Faites la somme selon l'axe axis = 1\n",
    "\n",
    "8. Faites la somme selon l'axe axis = 2\n",
    "\n",
    "9. Créez un nouveau tableau x3 de dimension 1 X 2 qui fait la somme totale de chaque ligne.\n",
    "\n",
    "10. On voudrait sélectionner maintenant les deuxièmes valeurs dans les tableaux 2x2 de chaque ligne.\n",
    "\n",
    "Indications : vous devriez trouver pour cette dernière question le tableau suivant :\n",
    "\n",
    "```txt\n",
    "array([[4, 9],\n",
    "       [0, 0]])\n",
    "```"
   ]
  },
  {
   "cell_type": "code",
   "execution_count": 4,
   "id": "ecba914b",
   "metadata": {},
   "outputs": [],
   "source": [
    "import numpy as np"
   ]
  },
  {
   "cell_type": "code",
   "execution_count": 12,
   "id": "4b30abbd",
   "metadata": {},
   "outputs": [
    {
     "name": "stdout",
     "output_type": "stream",
     "text": [
      "[9 1 2]\n",
      "[1 0 1]\n",
      "[12 10 11]\n",
      "[22  2  9]\n",
      "22 2 9\n",
      "12 10 11\n"
     ]
    }
   ],
   "source": [
    "x1 = np.array([[9, 1, 2],\n",
    "       [8, 0, 2],\n",
    "       [5, 1, 5]])\n",
    "\n",
    "#1\n",
    "print(x1[0])\n",
    "\n",
    "#2\n",
    "print(x1[:, 1])\n",
    "\n",
    "#3\n",
    "print(x1.sum(1))\n",
    "print(x1.sum(0))\n",
    "\n",
    "#4\n",
    "(c1, c2, c3) = x1.sum(0)\n",
    "print(c1, c2, c3)\n",
    "\n",
    "#5\n",
    "(l1, l2, l3) = x1.sum(1)\n",
    "print(l1, l2, l3)"
   ]
  },
  {
   "cell_type": "code",
   "execution_count": 16,
   "id": "eee0015b",
   "metadata": {},
   "outputs": [
    {
     "name": "stdout",
     "output_type": "stream",
     "text": [
      "[[11  4]\n",
      " [13  9]]\n",
      "[[16 13]\n",
      " [ 8  0]]\n",
      "[[12 17]\n",
      " [ 3  5]]\n",
      "[[4 9]\n",
      " [0 0]]\n"
     ]
    }
   ],
   "source": [
    "x2 = np.array([ \n",
    "    [ [8, 4],[8, 9] ],\n",
    "    [ [3, 0],[5, 0] ] \n",
    "])\n",
    "\n",
    "#6\n",
    "print(x2.sum(0))\n",
    "\n",
    "#7\n",
    "print(x2.sum(1))\n",
    "\n",
    "#8\n",
    "print(x2.sum(2))\n",
    "\n",
    "#9\n",
    "\n",
    "\n",
    "#10\n",
    "print(x2[:, :, 1])"
   ]
  },
  {
   "cell_type": "code",
   "execution_count": null,
   "id": "deb9759d",
   "metadata": {},
   "outputs": [],
   "source": []
  }
 ],
 "metadata": {
  "kernelspec": {
   "display_name": "Python 3 (ipykernel)",
   "language": "python",
   "name": "python3"
  },
  "language_info": {
   "codemirror_mode": {
    "name": "ipython",
    "version": 3
   },
   "file_extension": ".py",
   "mimetype": "text/x-python",
   "name": "python",
   "nbconvert_exporter": "python",
   "pygments_lexer": "ipython3",
   "version": "3.9.7"
  }
 },
 "nbformat": 4,
 "nbformat_minor": 5
}
