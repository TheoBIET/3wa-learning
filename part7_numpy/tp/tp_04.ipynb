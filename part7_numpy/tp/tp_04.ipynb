{
 "cells": [
  {
   "cell_type": "markdown",
   "id": "74969210",
   "metadata": {},
   "source": [
    "## Partie 1 - Iris\n",
    "\n",
    "Récupérez les sources du datasets dans le module sklearn"
   ]
  },
  {
   "cell_type": "code",
   "execution_count": 38,
   "id": "110e327e",
   "metadata": {},
   "outputs": [
    {
     "data": {
      "text/plain": [
       "dict_keys(['data', 'target', 'frame', 'target_names', 'DESCR', 'feature_names', 'filename'])"
      ]
     },
     "execution_count": 38,
     "metadata": {},
     "output_type": "execute_result"
    }
   ],
   "source": [
    "import matplotlib.pyplot as plt\n",
    "import numpy as np\n",
    "from sklearn import datasets\n",
    "\n",
    "iris = datasets.load_iris()\n",
    "\n",
    "iris.keys()"
   ]
  },
  {
   "cell_type": "markdown",
   "id": "3d0bea74",
   "metadata": {},
   "source": [
    "1. Donnez le nombre de catégorie de fleurs ainsi que leurs noms respectifs."
   ]
  },
  {
   "cell_type": "code",
   "execution_count": 39,
   "id": "5fb05d5e",
   "metadata": {},
   "outputs": [
    {
     "data": {
      "text/plain": [
       "'Il y a 3 catégories de fleurs : setosa, versicolor, virginica'"
      ]
     },
     "execution_count": 39,
     "metadata": {},
     "output_type": "execute_result"
    }
   ],
   "source": [
    "cat_names = iris.target_names\n",
    "\n",
    "(f\"Il y a {cat_names.size} catégories de fleurs : {', '.join(cat_names)}\")"
   ]
  },
  {
   "cell_type": "markdown",
   "id": "c5826c3c",
   "metadata": {},
   "source": [
    "2. Comptez le nombre de fleurs par catégorie."
   ]
  },
  {
   "cell_type": "code",
   "execution_count": 48,
   "id": "f67a7cf1",
   "metadata": {},
   "outputs": [
    {
     "data": {
      "text/plain": [
       "'Il y a (50, 0) fleurs dans chaque catégorie ([(50, 0), (50, 1), (50, 2)])'"
      ]
     },
     "execution_count": 48,
     "metadata": {},
     "output_type": "execute_result"
    }
   ],
   "source": [
    "nb_per_cat = [((iris.target == i).sum(), i) for i in range(cat_names.size)]\n",
    "\n",
    "(f\"Il y a {nb_per_cat[0]} fleurs dans chaque catégorie ({nb_per_cat})\")"
   ]
  },
  {
   "cell_type": "markdown",
   "id": "d1d6ec23",
   "metadata": {},
   "source": [
    "3. Calculez la moyenne des longueurs des pétales, puis des sépales de toutes les fleures. Puis, refaite ce calcul par catégorie de fleurs."
   ]
  },
  {
   "cell_type": "code",
   "execution_count": 71,
   "id": "dab1a8d5",
   "metadata": {},
   "outputs": [
    {
     "name": "stdout",
     "output_type": "stream",
     "text": [
      "['sepal length (cm)', 'sepal width (cm)', 'petal length (cm)', 'petal width (cm)']\n"
     ]
    },
    {
     "data": {
      "text/plain": [
       "'La moyenne de la longueur des pétales est de 5.84cm, celle des sépales de 3.76cm.'"
      ]
     },
     "execution_count": 71,
     "metadata": {},
     "output_type": "execute_result"
    }
   ],
   "source": [
    "print(iris.feature_names)\n",
    "\n",
    "petals = [f[2] for f in iris.data]\n",
    "sepals = [f[0] for f in iris.data]\n",
    "\n",
    "petal_length_avg = np.around(np.mean(sepals), 2)\n",
    "sepal_length_avg = np.around(np.mean(petals), 2)\n",
    "\n",
    "(f\"La moyenne de la longueur des pétales est de {petal_length_avg}cm, celle des sépales de {sepal_length_avg}cm.\")"
   ]
  },
  {
   "cell_type": "code",
   "execution_count": 112,
   "id": "e8be1f92",
   "metadata": {},
   "outputs": [
    {
     "data": {
      "text/plain": [
       "'La moyenne de la longueur des pétales par catégories est [(2.35, 0), (4.1, 1), (4.525, 2)], celle des sépales de [(5.01, 0), (5.94, 1), (6.59, 2)].'"
      ]
     },
     "execution_count": 112,
     "metadata": {},
     "output_type": "execute_result"
    }
   ],
   "source": [
    "avg_petal_per_cat = [(np.around(np.mean([f[2] for f in iris.data[iris.target == i]]), 2), i) for i in range(cat_names.size)]\n",
    "avg_sepal_per_cat = [(np.around(np.mean([f[0] for f in iris.data[iris.target == i]]), 2), i) for i in range(cat_names.size)]\n",
    "\n",
    "(f\"La moyenne de la longueur des pétales par catégories est {avg_per_cat}, celle des sépales de {avg_sepal_per_cat}.\")"
   ]
  },
  {
   "cell_type": "markdown",
   "id": "4cf3822f",
   "metadata": {},
   "source": [
    "4. Trouvez la fleur qui a la plus longue (en largeur) pétale, puis la plus grande surface."
   ]
  },
  {
   "cell_type": "code",
   "execution_count": 80,
   "id": "525668e9",
   "metadata": {},
   "outputs": [
    {
     "data": {
      "text/plain": [
       "\"La fleur qui possède la pétale la plus large en possède une de 2.5cm de large. Celle qui a la plus grande surface s'étend sur 15.87cm²\""
      ]
     },
     "execution_count": 80,
     "metadata": {},
     "output_type": "execute_result"
    }
   ],
   "source": [
    "max_width = np.max([f[3] for f in iris.data])\n",
    "max_area = np.max([(f[3] * f[2]) for f in iris.data])\n",
    "\n",
    "(f\"La fleur qui possède la pétale la plus large en possède une de {max_width}cm de large. Celle qui a la plus grande surface s'étend sur {max_area}cm²\")"
   ]
  },
  {
   "cell_type": "markdown",
   "id": "b5e1cca4",
   "metadata": {},
   "source": [
    "Pour la suite utilisez la méthode plt.hist de Matplotlib.\n",
    "\n",
    "5. Faites l'histogramme des longueurs des pétales des versicolors."
   ]
  },
  {
   "cell_type": "code",
   "execution_count": 144,
   "id": "dcc50b21",
   "metadata": {},
   "outputs": [
    {
     "data": {
      "image/png": "[encoded data removed]",
      "text/plain": [
       "<Figure size 432x288 with 1 Axes>"
      ]
     },
     "metadata": {
      "needs_background": "light"
     },
     "output_type": "display_data"
    }
   ],
   "source": [
    "data_by_cat = [(f[2], i) for i in range(cat_names.size) for f in iris.data[iris.target == i]]\n",
    "\n",
    "versi_petal = [d[0] for d in data_by_cat if d[1] == 1]\n",
    "\n",
    "plt.ylabel('Nombres de fleurs')\n",
    "plt.xlabel('Taille (en CM)')\n",
    "\n",
    "plt.hist(versi_petal)\n",
    "\n",
    "plt.title('Histogrammes des longueurs des pétales de versicolor', fontsize=10)\n",
    "\n",
    "plt.show()"
   ]
  },
  {
   "cell_type": "markdown",
   "id": "fdb6dac0",
   "metadata": {},
   "source": [
    "6. Faites l'histogramme des longueurs des pétales des setosas."
   ]
  },
  {
   "cell_type": "code",
   "execution_count": 143,
   "id": "ff03d3c4",
   "metadata": {},
   "outputs": [
    {
     "data": {
      "image/png": "[encoded data removed]",
      "text/plain": [
       "<Figure size 432x288 with 1 Axes>"
      ]
     },
     "metadata": {
      "needs_background": "light"
     },
     "output_type": "display_data"
    }
   ],
   "source": [
    "data_by_cat = [(f[2], i) for i in range(cat_names.size) for f in iris.data[iris.target == i]]\n",
    "\n",
    "versi_petal = [d[0] for d in data_by_cat if d[1] == 0]\n",
    "\n",
    "plt.ylabel('Nombres de fleurs')\n",
    "plt.xlabel('Taille (en CM)')\n",
    "\n",
    "plt.hist(versi_petal)\n",
    "\n",
    "plt.title('Histogrammes des longueurs des pétales de setosa', fontsize=10)\n",
    "\n",
    "plt.show()"
   ]
  },
  {
   "cell_type": "markdown",
   "id": "11db565c",
   "metadata": {},
   "source": [
    "7. Faites l'histogramme des longueurs des pétales des virginica."
   ]
  },
  {
   "cell_type": "code",
   "execution_count": 145,
   "id": "bc61abb7",
   "metadata": {},
   "outputs": [
    {
     "data": {
      "image/png": "[encoded data removed]",
      "text/plain": [
       "<Figure size 432x288 with 1 Axes>"
      ]
     },
     "metadata": {
      "needs_background": "light"
     },
     "output_type": "display_data"
    }
   ],
   "source": [
    "data_by_cat = [(f[2], i) for i in range(cat_names.size) for f in iris.data[iris.target == i]]\n",
    "\n",
    "versi_petal = [d[0] for d in data_by_cat if d[1] == 2]\n",
    "\n",
    "plt.ylabel('Nombres de fleurs')\n",
    "plt.xlabel('Taille (en CM)')\n",
    "\n",
    "plt.hist(versi_petal)\n",
    "\n",
    "plt.title('Histogrammes des longueurs des pétales de setosa', fontsize=10)\n",
    "\n",
    "plt.show()"
   ]
  },
  {
   "cell_type": "markdown",
   "id": "3f31dc54",
   "metadata": {},
   "source": [
    "\n",
    "## Partie 2 - Bernoulli\n",
    "\n",
    "1. Créez une fonction de Bernoulli, elle a deux issues possibles : 1 ou 0. Passez en paramètre la probablité p d'obternir 1 à cette fonction."
   ]
  },
  {
   "cell_type": "code",
   "execution_count": 155,
   "id": "c7308be3",
   "metadata": {},
   "outputs": [
    {
     "name": "stdout",
     "output_type": "stream",
     "text": [
      "1\n",
      "1\n",
      "1\n",
      "0\n",
      "0\n"
     ]
    }
   ],
   "source": [
    "def bernoulli(p=0.5):\n",
    "    return np.random.binomial(1, p)\n",
    "\n",
    "for i in range(5):\n",
    "    print(bernoulli())"
   ]
  },
  {
   "cell_type": "markdown",
   "id": "167c8f4d",
   "metadata": {},
   "source": [
    "- Problématique :\n",
    "\n",
    "Si on prend l'expérience suivante : on lance successivement 10 fois une pièce de monnaie parfaitement équilibrée. Quelle est la probabilité d'obtenir 3 piles sur ces 10 lancers ?\n",
    "\n",
    "2. Créez une fonction **experience(n,p)** qui permet de simuler un lancer de dé à l'aide de la fonction bernoulli."
   ]
  },
  {
   "cell_type": "code",
   "execution_count": 180,
   "id": "3d77232c",
   "metadata": {},
   "outputs": [
    {
     "data": {
      "text/plain": [
       "[1, 0, 0, 1, 0, 0, 1, 1, 0, 1]"
      ]
     },
     "execution_count": 180,
     "metadata": {},
     "output_type": "execute_result"
    }
   ],
   "source": [
    "def experience(n,p=0.5):\n",
    "    return [bernoulli(p) for i in range(n)]\n",
    "\n",
    "experience(10)"
   ]
  },
  {
   "cell_type": "markdown",
   "id": "dca5d5d3",
   "metadata": {},
   "source": [
    "3. Répétez un grand nombre de fois l'expérience décrite ci-dessus et comptez alors le nombre de fois que l'on obtient une combinaison de 3 piles parmi 10 lancers :"
   ]
  },
  {
   "cell_type": "code",
   "execution_count": 193,
   "id": "0969f342",
   "metadata": {},
   "outputs": [
    {
     "data": {
      "text/plain": [
       "'Sur 100 sessions de 10 lancers, nous avons obtenu une combinaisons de 3 piles à 10 reprises, nous avons obtenu une combinaison supérieure à 3 piles à 84 reprises'"
      ]
     },
     "execution_count": 193,
     "metadata": {},
     "output_type": "execute_result"
    }
   ],
   "source": [
    "nb_of_try = 100\n",
    "nb = 10\n",
    "\n",
    "dataset = np.array([experience(nb) for i in range(nb_of_try)])\n",
    "res = ((dataset == 1).sum(1) == 3).sum()\n",
    "res2 = ((dataset == 1).sum(1) > 3).sum()\n",
    "\n",
    "(f\"Sur {nb_of_try} sessions de {nb} lancers, nous avons obtenu une combinaisons de 3 piles à {res} reprises, nous avons obtenu une combinaison supérieure à 3 piles à {res2} reprises\")"
   ]
  }
 ],
 "metadata": {
  "kernelspec": {
   "display_name": "Python 3 (ipykernel)",
   "language": "python",
   "name": "python3"
  },
  "language_info": {
   "codemirror_mode": {
    "name": "ipython",
    "version": 3
   },
   "file_extension": ".py",
   "mimetype": "text/x-python",
   "name": "python",
   "nbconvert_exporter": "python",
   "pygments_lexer": "ipython3",
   "version": "3.9.7"
  }
 },
 "nbformat": 4,
 "nbformat_minor": 5
}
