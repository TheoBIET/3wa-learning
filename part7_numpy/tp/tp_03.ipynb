{
 "cells": [
  {
   "cell_type": "markdown",
   "id": "5d84421c",
   "metadata": {},
   "source": [
    "# TP Titanic (Théo BIET)"
   ]
  },
  {
   "cell_type": "code",
   "execution_count": 2,
   "id": "107b5b19",
   "metadata": {},
   "outputs": [],
   "source": [
    "import numpy as np\n",
    "import csv\n",
    "import pprint\n",
    "pp = pprint.PrettyPrinter(indent=4)"
   ]
  },
  {
   "cell_type": "markdown",
   "id": "d2fb8a88",
   "metadata": {},
   "source": [
    "Récupérez le dataset dans le dossier Data : \"titanic.csv\"."
   ]
  },
  {
   "cell_type": "code",
   "execution_count": 3,
   "id": "08b311e5",
   "metadata": {},
   "outputs": [],
   "source": [
    "with open ('../Data/titanic.csv', 'r') as f:\n",
    "    data_reader = csv.reader(f, delimiter=',', quotechar='\"')\n",
    "    # Supprimer tous les passagers qui n'ont pas d'âge\n",
    "    data = [(d[4], d[5], d[2], True if d[1] == '1' else False , d[3]) for d in data_reader if d[5] != ''][1:]"
   ]
  },
  {
   "cell_type": "markdown",
   "id": "808aa705",
   "metadata": {},
   "source": [
    "1. Récupérez les données suivantes : Sex Age Pclass Survived, Name. Créez un dataset en fonction de ces paramètres."
   ]
  },
  {
   "cell_type": "code",
   "execution_count": 6,
   "id": "a595a768",
   "metadata": {},
   "outputs": [
    {
     "name": "stdout",
     "output_type": "stream",
     "text": [
      "[('male', 22., 3, False, 'Braund, Mr. Owen Harris')\n",
      " ('female', 38., 1,  True, 'Cumings, Mrs. John Bradle')\n",
      " ('female', 26., 3,  True, 'Heikkinen, Miss. Laina')\n",
      " ('female', 35., 1,  True, 'Futrelle, Mrs. Jacques He')\n",
      " ('male', 35., 3, False, 'Allen, Mr. William Henry')]\n",
      "[('female', 39., 3, False, 'Rice, Mrs. William (Marga')\n",
      " ('male', 27., 2, False, 'Montvila, Rev. Juozas')\n",
      " ('female', 19., 1,  True, 'Graham, Miss. Margaret Ed')\n",
      " ('male', 26., 1,  True, 'Behr, Mr. Karl Howell')\n",
      " ('male', 32., 3, False, 'Dooley, Mr. Patrick')]\n"
     ]
    }
   ],
   "source": [
    "data = np.array(data, dtype=np.dtype([\n",
    "    ('sex', np.dtype('U14')), \n",
    "    ('age', np.float64),\n",
    "    ('pclass', np.int64),\n",
    "    ('survived', np.bool8),\n",
    "    ('name', np.dtype('U25'))\n",
    "]))\n",
    "\n",
    "print(data[:5])\n",
    "print(data[-5:])"
   ]
  },
  {
   "cell_type": "markdown",
   "id": "9d679c96",
   "metadata": {},
   "source": [
    "2. Combien de personnes au total ont survécu ? Calculez la moyenne des survivants."
   ]
  },
  {
   "cell_type": "code",
   "execution_count": 17,
   "id": "88684b56",
   "metadata": {},
   "outputs": [
    {
     "data": {
      "text/plain": [
       "'40.62% des passagers ont survécus'"
      ]
     },
     "execution_count": 17,
     "metadata": {},
     "output_type": "execute_result"
    }
   ],
   "source": [
    "survived_mask = data['survived'] == True\n",
    "\n",
    "survived_pct = np.around(np.mean(survived_mask) * 100, 2)\n",
    "\n",
    "str(survived_pct) + \"% des passagers ont survécus\""
   ]
  },
  {
   "cell_type": "markdown",
   "id": "2cd9f60f",
   "metadata": {},
   "source": [
    "3. Calculez le pourcentage de femme et d'homme qui ont survécu."
   ]
  },
  {
   "cell_type": "code",
   "execution_count": 5,
   "id": "fc438f3e",
   "metadata": {},
   "outputs": [
    {
     "data": {
      "text/plain": [
       "'75.48% des femmes ont survécus tandis que 20.53% des hommes ont survécus'"
      ]
     },
     "execution_count": 5,
     "metadata": {},
     "output_type": "execute_result"
    }
   ],
   "source": [
    "male_mask = data['sex'] == 'male'\n",
    "female_mask = data['sex'] == 'female'\n",
    "\n",
    "survived_men_pct = np.around(((survived_mask) & (male_mask)).sum() * 100 / (male_mask).sum(), 2)\n",
    "survived_women_pct = np.around(((survived_mask) & (female_mask)).sum() * 100 / (female_mask).sum(), 2)\n",
    "\n",
    "str(survived_women_pct) + \"% des femmes ont survécus tandis que \" + str(survived_men_pct) + \"% des hommes ont survécus\""
   ]
  },
  {
   "cell_type": "markdown",
   "id": "333788cc",
   "metadata": {},
   "source": [
    "4. Combien de personnes en première classe ont survécu ?"
   ]
  },
  {
   "cell_type": "code",
   "execution_count": 6,
   "id": "83a2eabf",
   "metadata": {},
   "outputs": [
    {
     "data": {
      "text/plain": [
       "'65.59% des passagers en 1ère classe ont survécus'"
      ]
     },
     "execution_count": 6,
     "metadata": {},
     "output_type": "execute_result"
    }
   ],
   "source": [
    "first_class_mask = data['pclass'] == 1\n",
    "\n",
    "survived_first_class_pct = np.around(((survived_mask) & (first_class_mask)).sum() * 100 / (first_class_mask).sum(), 2)\n",
    "\n",
    "str(survived_first_class_pct) + \"% des passagers en 1ère classe ont survécus\""
   ]
  },
  {
   "cell_type": "markdown",
   "id": "5c64ecbd",
   "metadata": {},
   "source": [
    "5. Calculez le pourcentage de femme en première classe qui ont survécu."
   ]
  },
  {
   "cell_type": "code",
   "execution_count": 7,
   "id": "50c28c7e",
   "metadata": {},
   "outputs": [
    {
     "data": {
      "text/plain": [
       "'96.47% des femmes en 1ère classe ont survécus'"
      ]
     },
     "execution_count": 7,
     "metadata": {},
     "output_type": "execute_result"
    }
   ],
   "source": [
    "survived_first_class_women_pct = np.around(((survived_mask) & (first_class_mask) & (female_mask)).sum() * 100 / ((first_class_mask) & (female_mask)).sum(), 2)\n",
    "\n",
    "str(survived_first_class_women_pct) + \"% des femmes en 1ère classe ont survécus\""
   ]
  },
  {
   "cell_type": "markdown",
   "id": "c9bd2188",
   "metadata": {},
   "source": [
    "6. Calculez le pourcentage d'homme en première classe qui ont survécu."
   ]
  },
  {
   "cell_type": "code",
   "execution_count": 8,
   "id": "f93b144d",
   "metadata": {},
   "outputs": [
    {
     "data": {
      "text/plain": [
       "'39.6% des hommes en 1ère classe ont survécus'"
      ]
     },
     "execution_count": 8,
     "metadata": {},
     "output_type": "execute_result"
    }
   ],
   "source": [
    "survived_first_class_men_pct = np.round(((survived_mask) & (first_class_mask) & (male_mask)).sum() * 100 / ((first_class_mask) & (male_mask)).sum(), 2)\n",
    "\n",
    "str(survived_first_class_men_pct) + \"% des hommes en 1ère classe ont survécus\""
   ]
  },
  {
   "cell_type": "markdown",
   "id": "65685083",
   "metadata": {},
   "source": [
    "7. Calculez l'étendu des valeurs des ages, la moyenne des ages et l'écart type."
   ]
  },
  {
   "cell_type": "code",
   "execution_count": 9,
   "id": "5331951f",
   "metadata": {},
   "outputs": [
    {
     "data": {
      "text/plain": [
       "\"L'étendu de la valeurs des âges est de 79.58 ans, la moyenne de 29.7 ans et l'écart type de 15.0ans.\""
      ]
     },
     "execution_count": 9,
     "metadata": {},
     "output_type": "execute_result"
    }
   ],
   "source": [
    "age_mean = np.around(np.mean(data['age']), 2)\n",
    "age_std = np.around( np.std(data['age']))\n",
    "age_diff = np.max(data['age']) - np.min(data['age'])\n",
    "\n",
    "\"L'étendu de la valeurs des âges est de \" + str(age_diff) + \" ans, la moyenne de \" + str(age_mean) + \" ans et l'écart type de \" + str(age_std) + \"ans.\""
   ]
  },
  {
   "cell_type": "markdown",
   "id": "33638dac",
   "metadata": {},
   "source": [
    "8. Calculez l'age moyen des personnes qui ont survécu."
   ]
  },
  {
   "cell_type": "code",
   "execution_count": 35,
   "id": "66e42032",
   "metadata": {},
   "outputs": [
    {
     "data": {
      "text/plain": [
       "\"La moyenne d'âge des survivants est de 30.62617924528302 ans.\""
      ]
     },
     "execution_count": 35,
     "metadata": {},
     "output_type": "execute_result"
    }
   ],
   "source": [
    "survived_age_mean = np.mean(data['age'][survived_mask])\n",
    "survived_age_mean = np.mean(np.ma.array(data['age'], mask=survived_mask))\n",
    "\n",
    "\"La moyenne d'âge des survivants est de \" + str(survived_age_mean) + \" ans.\""
   ]
  },
  {
   "cell_type": "code",
   "execution_count": 62,
   "id": "bbc99764",
   "metadata": {},
   "outputs": [
    {
     "data": {
      "text/plain": [
       "28.34"
      ]
     },
     "execution_count": 62,
     "metadata": {},
     "output_type": "execute_result"
    }
   ],
   "source": [
    "np.around(np.mean(data['age'][survived_mask]),2)"
   ]
  },
  {
   "cell_type": "code",
   "execution_count": 64,
   "id": "34042b23",
   "metadata": {},
   "outputs": [
    {
     "data": {
      "text/plain": [
       "30.63"
      ]
     },
     "execution_count": 64,
     "metadata": {},
     "output_type": "execute_result"
    }
   ],
   "source": [
    "np.around(np.mean(np.ma.array(data['age'], mask=survived_mask)), 2)"
   ]
  },
  {
   "cell_type": "code",
   "execution_count": 40,
   "id": "2302bf24",
   "metadata": {},
   "outputs": [
    {
     "data": {
      "text/plain": [
       "12985.5"
      ]
     },
     "execution_count": 40,
     "metadata": {},
     "output_type": "execute_result"
    }
   ],
   "source": [
    "np.ma.array(data['age'], mask=survived_mask).sum()"
   ]
  },
  {
   "cell_type": "code",
   "execution_count": 39,
   "id": "50e1abc7",
   "metadata": {},
   "outputs": [
    {
     "data": {
      "text/plain": [
       "8219.67"
      ]
     },
     "execution_count": 39,
     "metadata": {},
     "output_type": "execute_result"
    }
   ],
   "source": [
    "data['age'][survived_mask].sum()"
   ]
  },
  {
   "cell_type": "code",
   "execution_count": 48,
   "id": "dcb659f1",
   "metadata": {},
   "outputs": [
    {
     "data": {
      "text/plain": [
       "8219.67"
      ]
     },
     "execution_count": 48,
     "metadata": {},
     "output_type": "execute_result"
    }
   ],
   "source": [
    "data[survived_mask]['age'].sum()"
   ]
  },
  {
   "cell_type": "code",
   "execution_count": 47,
   "id": "b2c09ff0",
   "metadata": {},
   "outputs": [
    {
     "data": {
      "text/plain": [
       "714"
      ]
     },
     "execution_count": 47,
     "metadata": {},
     "output_type": "execute_result"
    }
   ],
   "source": [
    "((data['survived'] == True) | (data['survived'] == False)).sum()"
   ]
  },
  {
   "cell_type": "code",
   "execution_count": 45,
   "id": "5b65941f",
   "metadata": {},
   "outputs": [
    {
     "data": {
      "text/plain": [
       "714"
      ]
     },
     "execution_count": 45,
     "metadata": {},
     "output_type": "execute_result"
    }
   ],
   "source": [
    "len(data)"
   ]
  },
  {
   "cell_type": "code",
   "execution_count": 58,
   "id": "43542abb",
   "metadata": {},
   "outputs": [
    {
     "data": {
      "text/plain": [
       "21173.0"
      ]
     },
     "execution_count": 58,
     "metadata": {},
     "output_type": "execute_result"
    }
   ],
   "source": [
    "data_age = data['age'] > 2.\n",
    "data['age'][data_age].sum()"
   ]
  },
  {
   "cell_type": "code",
   "execution_count": 59,
   "id": "f0977116",
   "metadata": {},
   "outputs": [
    {
     "data": {
      "text/plain": [
       "21173.0"
      ]
     },
     "execution_count": 59,
     "metadata": {},
     "output_type": "execute_result"
    }
   ],
   "source": [
    "np.ma.array(data['age'], mask=~data_age).sum()"
   ]
  },
  {
   "cell_type": "code",
   "execution_count": null,
   "id": "3f00441c",
   "metadata": {},
   "outputs": [],
   "source": []
  }
 ],
 "metadata": {
  "kernelspec": {
   "display_name": "Python 3 (ipykernel)",
   "language": "python",
   "name": "python3"
  },
  "language_info": {
   "codemirror_mode": {
    "name": "ipython",
    "version": 3
   },
   "file_extension": ".py",
   "mimetype": "text/x-python",
   "name": "python",
   "nbconvert_exporter": "python",
   "pygments_lexer": "ipython3",
   "version": "3.9.7"
  }
 },
 "nbformat": 4,
 "nbformat_minor": 5
}
