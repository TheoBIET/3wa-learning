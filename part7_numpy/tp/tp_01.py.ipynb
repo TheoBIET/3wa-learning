{
 "cells": [
  {
   "cell_type": "code",
   "execution_count": null,
   "id": "94e5d783",
   "metadata": {
    "scrolled": true
   },
   "outputs": [],
   "source": [
    "import numpy as np\n",
    "import csv\n",
    "import pprint"
   ]
  },
  {
   "cell_type": "markdown",
   "id": "75b869c6",
   "metadata": {},
   "source": [
    "1. Importez les données dans votre script Python et enregistrez les dans un array numpy. Travaillez avec un type composite."
   ]
  },
  {
   "cell_type": "code",
   "execution_count": 16,
   "id": "3fa78bdf",
   "metadata": {},
   "outputs": [],
   "source": [
    "with open('pollution_2016.csv','r') as f:\n",
    "    data_reader = csv.reader(f,\n",
    "                           delimiter = ',',\n",
    "                           quotechar = '\"')\n",
    "    data = [(d[0], d[1]) for d in data_reader][1:]"
   ]
  },
  {
   "cell_type": "code",
   "execution_count": null,
   "id": "eda47df8",
   "metadata": {},
   "outputs": [],
   "source": [
    "data = np.array(data, dtype=np.dtype([\n",
    "    ('country', np.dtype('U14')), ('total', np.float64) \n",
    "]))"
   ]
  },
  {
   "cell_type": "markdown",
   "id": "485e1953",
   "metadata": {},
   "source": [
    "2. Affichez le nom du pays et le pourcentage du pays qui a le plus fort taux de pollution."
   ]
  },
  {
   "cell_type": "code",
   "execution_count": 45,
   "id": "6e8c28d5",
   "metadata": {},
   "outputs": [
    {
     "name": "stdout",
     "output_type": "stream",
     "text": [
      "Le pays avec le taux de pollution le plus élévé est [('Malta', 30.2)]\n"
     ]
    }
   ],
   "source": [
    "percentage_list = data['total'][:]\n",
    "max_percentage = max(percentage_list)\n",
    "\n",
    "print(\"Le pays avec le taux de pollution le plus élévé est\", data[np.where(percentage_list == max_percentage)])"
   ]
  },
  {
   "cell_type": "markdown",
   "id": "65af7b13",
   "metadata": {},
   "source": [
    "3. Calculez la moyenne des taux de pollution, l'écart type et l'étendu (voir les indications)."
   ]
  },
  {
   "cell_type": "code",
   "execution_count": 68,
   "id": "e16c7488",
   "metadata": {},
   "outputs": [
    {
     "name": "stdout",
     "output_type": "stream",
     "text": [
      "12.875 5.604295227769501 [[ 4.6  6.3  6.8  6.8  7.   7.2  7.9  8.9  9.   9.2  9.3  9.9 10.1 10.7\n",
      "  11.4 12.8 13.1 13.2 13.2 13.5 14.1 14.5 15.1 15.1 15.6 15.9 16.1 17.2\n",
      "  19.6 23.2 24.5 30.2]]\n"
     ]
    }
   ],
   "source": [
    "pol_avg = np.average(percentage_list)\n",
    "pol_type = np.std(percentage_list)\n",
    "pol_expand = np.expand_dims(percentage_list, axis = 0)\n",
    "print(pol_avg, pol_type, pol_expand)"
   ]
  },
  {
   "cell_type": "markdown",
   "id": "b2a85d6e",
   "metadata": {},
   "source": [
    "4. Classez les pays par taux de pollution croissant et décroissant."
   ]
  },
  {
   "cell_type": "code",
   "execution_count": 66,
   "id": "1d7373fb",
   "metadata": {},
   "outputs": [
    {
     "name": "stdout",
     "output_type": "stream",
     "text": [
      "[('Ireland',  4.6) ('Sweden',  6.3) ('Denmark',  6.8) ('Norway',  6.8)\n",
      " ('Croatia',  7. ) ('Finland',  7.2) ('Iceland',  7.9)\n",
      " ('Switzerland',  8.9) ('United Kingdom',  9. ) ('Cyprus',  9.2)\n",
      " ('Slovakia',  9.3) ('Estonia',  9.9) ('Spain', 10.1) ('Austria', 10.7)\n",
      " ('Poland', 11.4) ('Hungary', 12.8) ('Portugal', 13.1) ('Belgium', 13.2)\n",
      " ('Netherlands', 13.2) ('Czechia', 13.5) ('France', 14.1)\n",
      " ('Romania', 14.5) ('Bulgaria', 15.1) ('Italy', 15.1) ('Lithuania', 15.6)\n",
      " ('Slovenia', 15.9) ('Luxembourg', 16.1) ('Latvia', 17.2) ('Greece', 19.6)\n",
      " ('Germany', 23.2) ('Turkey', 24.5) ('Malta', 30.2)]\n",
      "[('Malta', 30.2) ('Turkey', 24.5) ('Germany', 23.2) ('Greece', 19.6)\n",
      " ('Latvia', 17.2) ('Luxembourg', 16.1) ('Slovenia', 15.9)\n",
      " ('Lithuania', 15.6) ('Italy', 15.1) ('Bulgaria', 15.1) ('Romania', 14.5)\n",
      " ('France', 14.1) ('Czechia', 13.5) ('Netherlands', 13.2)\n",
      " ('Belgium', 13.2) ('Portugal', 13.1) ('Hungary', 12.8) ('Poland', 11.4)\n",
      " ('Austria', 10.7) ('Spain', 10.1) ('Estonia',  9.9) ('Slovakia',  9.3)\n",
      " ('Cyprus',  9.2) ('United Kingdom',  9. ) ('Switzerland',  8.9)\n",
      " ('Iceland',  7.9) ('Finland',  7.2) ('Croatia',  7. ) ('Norway',  6.8)\n",
      " ('Denmark',  6.8) ('Sweden',  6.3) ('Ireland',  4.6)]\n"
     ]
    }
   ],
   "source": [
    "asc = np.sort(data, order='total')\n",
    "desc = np.sort(data, order='total')[::-1]\n",
    "\n",
    "print(asc)\n",
    "print(desc)"
   ]
  },
  {
   "cell_type": "markdown",
   "id": "8116940f",
   "metadata": {},
   "source": [
    "5. Affichez les 5 plus gros pollueurs."
   ]
  },
  {
   "cell_type": "code",
   "execution_count": 67,
   "id": "fb3b1206",
   "metadata": {},
   "outputs": [
    {
     "name": "stdout",
     "output_type": "stream",
     "text": [
      "[('Malta', 30.2) ('Turkey', 24.5) ('Germany', 23.2) ('Greece', 19.6)\n",
      " ('Latvia', 17.2)]\n"
     ]
    }
   ],
   "source": [
    "print(desc[:5])"
   ]
  },
  {
   "cell_type": "code",
   "execution_count": null,
   "id": "74de4c21",
   "metadata": {},
   "outputs": [],
   "source": []
  }
 ],
 "metadata": {
  "kernelspec": {
   "display_name": "Python 3 (ipykernel)",
   "language": "python",
   "name": "python3"
  },
  "language_info": {
   "codemirror_mode": {
    "name": "ipython",
    "version": 3
   },
   "file_extension": ".py",
   "mimetype": "text/x-python",
   "name": "python",
   "nbconvert_exporter": "python",
   "pygments_lexer": "ipython3",
   "version": "3.9.7"
  }
 },
 "nbformat": 4,
 "nbformat_minor": 5
}
