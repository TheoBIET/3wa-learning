{
 "cells": [
  {
   "cell_type": "markdown",
   "id": "ae9cb3a4",
   "metadata": {},
   "source": [
    "### 07 Exercice phrase word\n",
    "\n",
    "L'objectif de cet exercice est de déterminer la première position dans chaque ligne du tableau **dataNumbers** de la séquence **w** ci-dessous.\n",
    "\n",
    "1. Créez une fonction **search_word** qui prendra un seul paramètre : une liste d'entiers. Cette fonction retournera la position de la première occurence de la séquence **w**."
   ]
  },
  {
   "cell_type": "code",
   "execution_count": 1,
   "id": "1f5ffb48",
   "metadata": {},
   "outputs": [],
   "source": [
    "import numpy as np\n",
    "\n",
    "w = [1, 2, 3, 4]\n",
    "\n",
    "dataNumbers = np.array([\n",
    "       [ 6,  3,  3,  7,  7,  4,  7,  8,  5,  3,  7,  8,  4,  2],\n",
    "       [ 6,  9,  1,  2,  3,  4,  3,  1,  4,  3,  9,  6,  2,  2],\n",
    "       [-1, -1, -1, -1, -1, -1, -1, -1, -1, -1, -1, -1, -1, -1],\n",
    "       [ 4,  9,  2,  1,  1,  2,  3,  4,  3,  1,  9,  8,  2,  6],\n",
    "       [ 3,  2,  9,  9,  2,  3,  6,  9,  8,  2,  1,  2,  3,  4],\n",
    "       [ 1,  4,  1,  2,  3,  4,  4,  5,  8,  8,  1,  5,  7,  1],\n",
    "       [ 1,  4,  3,  8,  2,  1,  2,  3,  4,  3,  9,  3,  5,  8],\n",
    "       [ 7,  8,  8,  5,  1,  8,  3,  3,  6,  1,  2,  3,  4,  7],\n",
    "       [-1, -1, -1, -1, -1, -1, -1, -1, -1, -1, -1, -1, -1, -1],\n",
    "       [ 7,  7,  1,  6,  1,  2,  3,  4,  9,  2,  4,  4,  5,  9],\n",
    "       [ 5,  6,  6,  2,  3,  7,  1,  9,  9,  5,  1,  2,  3,  4],\n",
    "       [ 7,  7,  2,  3,  3,  7,  9,  4,  3,  9,  1,  1,  1,  1],\n",
    "       [ 6,  1,  2,  3,  4,  5,  5,  3,  1,  3,  1,  2,  3,  4]\n",
    "       ],dtype=np.int8\n",
    ")"
   ]
  },
  {
   "cell_type": "markdown",
   "id": "34a487e7",
   "metadata": {},
   "source": [
    "2. Utilisez maintenant cette fonction avec les données du tableau **dataNumbers**. Trouvez toutes les positions des séquences dans chacune des lignes du tableau, si la séquence n'existe pas retournez None. Pour appliquer une fonction à un tableau Numpy vous utiliserez la fonction **apply_along_axis**, voyez l'exemple ci-dessous :\n",
    "\n",
    "```python\n",
    "# paramètres : fonction, axis = 0, 1, dataset\n",
    "np.apply_along_axis(search_word, 1, dataNumbers)\n",
    "```\n",
    "\n",
    "Vous retournerez un tableau de dimension 1 avec les positions de chacune des séquences si elles existent et None sinon."
   ]
  },
  {
   "cell_type": "code",
   "execution_count": null,
   "id": "543952c2",
   "metadata": {},
   "outputs": [],
   "source": []
  },
  {
   "cell_type": "markdown",
   "id": "c9341768",
   "metadata": {},
   "source": [
    "### 08 Exercice température\n",
    "\n",
    "Nous avons relevé des températures au mois de Janvier. Répondez aux questions suivantes :\n",
    "\n",
    "1. Donnez toutes les températures qui sont supérieures à 0.\n",
    "\n",
    "2. Comparez les températures supérieures et inférieures à 0.\n",
    "\n",
    "3. Donnez le pourcentage des températures positives sur le mois.\n",
    "\n",
    "4. Créez un tableau days pour les jours du mois et donnez les jours pour lesquels la température était supérieure à 0.\n",
    "\n",
    "5. Donnez toutes les températures supérieures à 0 à partir du dixième jour du mois.\n",
    "\n",
    "6. Remplacez maintenant les températures négatives par la moyenne des températures positives.\n",
    "\n",
    "```python\n",
    "january = np.array([-2,  5, -5,  6, -2,  0,  6,  2,  8,  0,  6, -1,  3,  3,  7,  0, -5,\n",
    "        7,  4,  7,  8, -1,  5, -2,  3, -3, -2,  7,  8,  4,  2])\n",
    "```"
   ]
  },
  {
   "cell_type": "code",
   "execution_count": 2,
   "id": "88fb7197",
   "metadata": {},
   "outputs": [
    {
     "name": "stdout",
     "output_type": "stream",
     "text": [
      "[5 6 6 2 8 6 3 3 7 7 4 7 8 5 3 7 8 4 2]\n",
      "[-2 -5 -2 -1 -5 -1 -2 -3 -2]\n",
      "19 % de températures positives.\n",
      "[(5, 'Tu'), (6, 'Th'), (6, 'Su'), (2, 'M'), (8, 'Tu'), (6, 'Th'), (3, 'Sa'), (3, 'Su'), (7, 'M'), (7, 'Th'), (4, 'F'), (7, 'Sa'), (8, 'Su'), (5, 'Tu'), (3, 'Th'), (7, 'Su'), (8, 'M'), (4, 'Tu'), (2, 'W')]\n",
      "[6 3 3 7 7 4 7 8 5 3 7 8 4 2]\n",
      "[5.32, 5, 5.32, 6, 5.32, 5.32, 6, 2, 8, 5.32, 6, 5.32, 3, 3, 7, 5.32, 5.32, 7, 4, 7, 8, 5.32, 5, 5.32, 3, 5.32, 5.32, 7, 8, 4, 2]\n"
     ]
    }
   ],
   "source": [
    "january = np.array([-2,  5, -5,  6, -2,  0,  6,  2,  8,  0,  6, -1,  3,  3,  7,  0, -5,\n",
    "        7,  4,  7,  8, -1,  5, -2,  3, -3, -2,  7,  8,  4,  2])\n",
    "\n",
    "days = [\"M\", \"Tu\", \"W\", \"Th\", \"F\", \"Sa\", \"Su\"]\n",
    "\n",
    "#1\n",
    "print(january[january > 0])\n",
    "\n",
    "#2\n",
    "print(january[january < 0])\n",
    "\n",
    "#3\n",
    "print(len(january[january > 0] * 100 / len(january)), \"% de températures positives.\")\n",
    "\n",
    "#4\n",
    "with_date = [(january[i], days[i % len(days)]) for i in range(len(january)) if january[i] > 0]\n",
    "print(with_date)\n",
    "\n",
    "#5\n",
    "jan = january[9:]\n",
    "print(jan[jan > 0])\n",
    "\n",
    "#6\n",
    "january = [n if n > 0 else np.around(np.mean(january[january > 0]), 2) for n in january]\n",
    "print(january)"
   ]
  },
  {
   "cell_type": "markdown",
   "id": "f777c182",
   "metadata": {},
   "source": [
    "### 09 Exercice multiple de 11\n",
    "\n",
    "Soit le tableau suivant 20X20, c'est un tableau random d'entiers de 1 à 200. Nous souhaitons l'explorer pour rechercher tous les multiples de 11.\n",
    "\n",
    "```python\n",
    "dataset = np.random.randint(1, 200, size=(20, 20) )\n",
    "```\n",
    "\n",
    "1. Générez une liste y de tous les multiples de 11 inférieurs à 200.\n",
    "\n",
    "2. En utilisant la fonction Numpy suivante récupérez tous les multiples de 11 du dataset. Auditez chaque ligne pour savoir combien il y a de multiple de 11 par ligne. \n",
    "\n",
    "```python\n",
    "np.isin(dataset, y)\n",
    "```\n",
    "\n",
    "3. Supprimez toutes les lignes comportant au moins un multiple de 11.\n",
    "\n"
   ]
  },
  {
   "cell_type": "code",
   "execution_count": 10,
   "id": "b594f36a",
   "metadata": {},
   "outputs": [
    {
     "name": "stdout",
     "output_type": "stream",
     "text": [
      "20\n",
      "0\n"
     ]
    }
   ],
   "source": [
    "dataset = np.random.randint(1, 200, size=(20, 20))\n",
    "\n",
    "#1\n",
    "y = list(range(0, 200, 8))\n",
    "\n",
    "#2 \n",
    "mask = np.isin(dataset, y)\n",
    "\n",
    "#3\n",
    "dataset = np.delete(dataset, np.where(mask), axis=0)"
   ]
  },
  {
   "cell_type": "code",
   "execution_count": null,
   "id": "95374fcf",
   "metadata": {},
   "outputs": [],
   "source": []
  },
  {
   "cell_type": "code",
   "execution_count": null,
   "id": "b3b00cf9",
   "metadata": {},
   "outputs": [],
   "source": []
  }
 ],
 "metadata": {
  "kernelspec": {
   "display_name": "Python 3 (ipykernel)",
   "language": "python",
   "name": "python3"
  },
  "language_info": {
   "codemirror_mode": {
    "name": "ipython",
    "version": 3
   },
   "file_extension": ".py",
   "mimetype": "text/x-python",
   "name": "python",
   "nbconvert_exporter": "python",
   "pygments_lexer": "ipython3",
   "version": "3.10.0"
  }
 },
 "nbformat": 4,
 "nbformat_minor": 5
}
