{
 "cells": [
  {
   "cell_type": "markdown",
   "id": "f2cc264c",
   "metadata": {},
   "source": [
    "# Exercice slicing"
   ]
  },
  {
   "cell_type": "code",
   "execution_count": 2,
   "id": "cad5d65a",
   "metadata": {},
   "outputs": [],
   "source": [
    "import numpy as np"
   ]
  },
  {
   "cell_type": "markdown",
   "id": "7e5282e6",
   "metadata": {},
   "source": [
    "Soit m le tableau suivant :"
   ]
  },
  {
   "cell_type": "code",
   "execution_count": 3,
   "id": "5ed94f98",
   "metadata": {},
   "outputs": [],
   "source": [
    "m = np.random.randint(1, 5, (10,10))"
   ]
  },
  {
   "cell_type": "markdown",
   "id": "1ad70a17",
   "metadata": {},
   "source": [
    "1. Affichez les multiples de 3 de la première ligne du tableau m."
   ]
  },
  {
   "cell_type": "code",
   "execution_count": 14,
   "id": "90016848",
   "metadata": {},
   "outputs": [
    {
     "data": {
      "text/plain": [
       "array([3])"
      ]
     },
     "execution_count": 14,
     "metadata": {},
     "output_type": "execute_result"
    }
   ],
   "source": [
    "m[0][(m[0] % 3 == 0)]"
   ]
  },
  {
   "cell_type": "markdown",
   "id": "c471e391",
   "metadata": {},
   "source": [
    "2. Affichez la deuxième colonne et faite la somme des nombres pairs de cette colonne."
   ]
  },
  {
   "cell_type": "code",
   "execution_count": 35,
   "id": "63b05434",
   "metadata": {
    "scrolled": true
   },
   "outputs": [
    {
     "data": {
      "text/plain": [
       "20"
      ]
     },
     "execution_count": 35,
     "metadata": {},
     "output_type": "execute_result"
    }
   ],
   "source": [
    "mask_even = m[1] % 2 == 0\n",
    "(m[1][mask_even]).sum()"
   ]
  },
  {
   "cell_type": "markdown",
   "id": "0175a0cf",
   "metadata": {},
   "source": [
    "3. Faites la somme des lignes puis des colonnes qui contiennent au moins un 1."
   ]
  },
  {
   "cell_type": "code",
   "execution_count": 29,
   "id": "ce087281",
   "metadata": {},
   "outputs": [
    {
     "data": {
      "text/plain": [
       "array([28, 30, 27, 24, 22, 26, 19, 26, 29])"
      ]
     },
     "execution_count": 29,
     "metadata": {},
     "output_type": "execute_result"
    }
   ],
   "source": [
    "mask_one = np.isin(m, 1)\n",
    "m[np.any(mask_one, axis=1)].sum()\n",
    "# Si on ne voudrait que la somme des lignes extraites\n",
    "m[np.any(mask_one, axis=1)].sum(1)"
   ]
  },
  {
   "cell_type": "code",
   "execution_count": 30,
   "id": "c0b3630f",
   "metadata": {},
   "outputs": [
    {
     "data": {
      "text/plain": [
       "array([27, 28, 23, 27, 23, 30, 30, 29, 22])"
      ]
     },
     "execution_count": 30,
     "metadata": {},
     "output_type": "execute_result"
    }
   ],
   "source": [
    "# La matrice m.T est transposée, les lignes deviennents des colonnes\n",
    "m.T[np.any(mask_one, axis=1)].sum()\n",
    "m.T[np.any(mask_one, axis=1)].sum(1)"
   ]
  },
  {
   "cell_type": "markdown",
   "id": "d163dba9",
   "metadata": {},
   "source": [
    "4. Reprenez le tableax m et faite la somme de chaque colonne que vous placerez dans un tuple."
   ]
  },
  {
   "cell_type": "code",
   "execution_count": 41,
   "id": "2437c67a",
   "metadata": {},
   "outputs": [
    {
     "data": {
      "text/plain": [
       "(27, 28, 21, 23, 27, 23, 30, 30, 29, 22)"
      ]
     },
     "execution_count": 41,
     "metadata": {},
     "output_type": "execute_result"
    }
   ],
   "source": [
    "tuple(m.T.sum(1))"
   ]
  },
  {
   "cell_type": "markdown",
   "id": "5ff8b2bb",
   "metadata": {},
   "source": [
    "5. Même consigne mais maintenant pour les lignes."
   ]
  },
  {
   "cell_type": "code",
   "execution_count": 39,
   "id": "3a9af4e1",
   "metadata": {},
   "outputs": [
    {
     "data": {
      "text/plain": [
       "(28, 30, 29, 27, 24, 22, 26, 19, 26, 29)"
      ]
     },
     "execution_count": 39,
     "metadata": {},
     "output_type": "execute_result"
    }
   ],
   "source": [
    "tuple(m.sum(1))"
   ]
  },
  {
   "cell_type": "markdown",
   "id": "61f8c3c8",
   "metadata": {},
   "source": [
    "6. Faites la somme des valeurs paires de la matrice."
   ]
  },
  {
   "cell_type": "code",
   "execution_count": 47,
   "id": "53d8d767",
   "metadata": {},
   "outputs": [
    {
     "data": {
      "text/plain": [
       "164"
      ]
     },
     "execution_count": 47,
     "metadata": {},
     "output_type": "execute_result"
    }
   ],
   "source": [
    "m[(m % 2) == 0].sum()"
   ]
  },
  {
   "cell_type": "markdown",
   "id": "1fb490ac",
   "metadata": {},
   "source": [
    "7. Faites la somme des valeurs paires des colonnes."
   ]
  },
  {
   "cell_type": "code",
   "execution_count": 51,
   "id": "605ab3dd",
   "metadata": {},
   "outputs": [
    {
     "data": {
      "text/plain": [
       "164"
      ]
     },
     "execution_count": 51,
     "metadata": {},
     "output_type": "execute_result"
    }
   ],
   "source": [
    "columns = m.shape[1]\n",
    "total = 0\n",
    "for i in range(columns):\n",
    "    column = m[:,i]\n",
    "    total += column[column % 2 == 0].sum()\n",
    "total"
   ]
  },
  {
   "cell_type": "code",
   "execution_count": 58,
   "id": "c161de57",
   "metadata": {},
   "outputs": [
    {
     "data": {
      "text/plain": [
       "164"
      ]
     },
     "execution_count": 58,
     "metadata": {},
     "output_type": "execute_result"
    }
   ],
   "source": [
    "m.T[(m.T % 2) == 0].sum()"
   ]
  },
  {
   "cell_type": "markdown",
   "id": "d69c6056",
   "metadata": {},
   "source": [
    "8. Calculez la moyenne des valeurs et l'écart type."
   ]
  },
  {
   "cell_type": "code",
   "execution_count": 11,
   "id": "d88c59a8",
   "metadata": {},
   "outputs": [
    {
     "data": {
      "text/plain": [
       "2.6"
      ]
     },
     "execution_count": 11,
     "metadata": {},
     "output_type": "execute_result"
    }
   ],
   "source": [
    "np.mean(m)"
   ]
  },
  {
   "cell_type": "code",
   "execution_count": 12,
   "id": "daf17902",
   "metadata": {},
   "outputs": [
    {
     "data": {
      "text/plain": [
       "1.1"
      ]
     },
     "execution_count": 12,
     "metadata": {},
     "output_type": "execute_result"
    }
   ],
   "source": [
    "np.round(np.std(m), 2)"
   ]
  },
  {
   "cell_type": "markdown",
   "id": "82aa74ab",
   "metadata": {},
   "source": [
    "9. Créez un nouveau tableau à partir des valeurs paires de la matrice m"
   ]
  },
  {
   "cell_type": "code",
   "execution_count": 59,
   "id": "092fd665",
   "metadata": {},
   "outputs": [
    {
     "data": {
      "text/plain": [
       "array([2, 2, 4, 2, 4, 4, 4, 2, 4, 2, 4, 2, 4, 4, 4, 2, 4, 2, 4, 2, 2, 4,\n",
       "       4, 2, 2, 2, 2, 4, 2, 4, 2, 2, 4, 4, 2, 2, 2, 2, 4, 2, 4, 4, 2, 2,\n",
       "       4, 4, 4, 4, 4, 2, 4, 4, 4, 2])"
      ]
     },
     "execution_count": 59,
     "metadata": {},
     "output_type": "execute_result"
    }
   ],
   "source": [
    "np.array(m[m % 2 == 0], copy=True)"
   ]
  }
 ],
 "metadata": {
  "kernelspec": {
   "display_name": "Python 3 (ipykernel)",
   "language": "python",
   "name": "python3"
  },
  "language_info": {
   "codemirror_mode": {
    "name": "ipython",
    "version": 3
   },
   "file_extension": ".py",
   "mimetype": "text/x-python",
   "name": "python",
   "nbconvert_exporter": "python",
   "pygments_lexer": "ipython3",
   "version": "3.9.7"
  }
 },
 "nbformat": 4,
 "nbformat_minor": 5
}
