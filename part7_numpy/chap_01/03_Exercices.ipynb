{
 "cells": [
  {
   "cell_type": "markdown",
   "id": "975caa32",
   "metadata": {},
   "source": [
    "# Exercice augmentation\n",
    "Soit le tableau suivant appliquez une augmentation de 10% sur chaque valeur paire du tableau suivant :\n",
    "\n",
    "```py\n",
    "prices = np.array([82, 92, 89, 65, 77, 66, 69, 65, 79, 51])\n",
    "```\n",
    "\n",
    "\n",
    "Indication : vous pouvez appliquer une fonction lambda avec un calcul simple sur le tableau lui-même. Pour filtrer les valeurs pairs utiliser la fonction np.where de Numpy\n",
    "\n",
    "```py\n",
    "rate = lambda x : x*1.1\n",
    "\n",
    "rate(prices)\n",
    "# Dans l'exemple suivant a est un tableau a > 2 est une condtion à vérifier sur toutes les valeurs du tableau et 1 et 0 les \n",
    "# valeurs à retourner en fonction de la condition si True 1 et False 0 :\n",
    "np.where( a > 2, 1 , 0)\n",
    "```"
   ]
  },
  {
   "cell_type": "code",
   "execution_count": 3,
   "id": "a97ca00a",
   "metadata": {},
   "outputs": [],
   "source": [
    "import numpy as np"
   ]
  },
  {
   "cell_type": "code",
   "execution_count": 21,
   "id": "3607ce59",
   "metadata": {},
   "outputs": [
    {
     "name": "stdout",
     "output_type": "stream",
     "text": [
      "[ 90.2 101.2  89.   65.   77.   72.6  69.   65.   79.   51. ]\n"
     ]
    }
   ],
   "source": [
    "prices = np.array([82, 92, 89, 65, 77, 66, 69, 65, 79, 51])\n",
    "rate = lambda x: x * 1.1\n",
    "prices = np.where(prices % 2 == 0, rate(prices), prices)\n",
    "print(prices)"
   ]
  },
  {
   "cell_type": "markdown",
   "id": "c7dcbd78",
   "metadata": {},
   "source": [
    "# Exercice minimum\n",
    "Soit le tableau A suivant on cherche les valeurs minimales par ligne.\n",
    "\n",
    "Nous aimerions à l'aide d'un script Python trouver tous les indices de tableau par ligne des minimaux et les enregistrer dans une liste de tuples comme dans l'exemple ci-dessous :\n",
    "\n",
    "```py\n",
    "A = np.array([\n",
    "    [13, 22, 28, 66, 40],\n",
    "    [16, 59, 37, 33, 28],\n",
    "    [34, 98, 54, 48, 96],\n",
    "    [13, 84, 93, 79, 76],\n",
    "    [63, 50, 10, 69, 12]\n",
    "])\n",
    "```\n",
    "\n",
    "## Liste des minimaux et leur position sur chaque ligne\n",
    "```py\n",
    "minTabLine = [(0, 13), (0, 16), (0, 34), (0, 13), (2, 10)]\n",
    "```"
   ]
  },
  {
   "cell_type": "code",
   "execution_count": 48,
   "id": "7f07c0c9",
   "metadata": {},
   "outputs": [
    {
     "name": "stdout",
     "output_type": "stream",
     "text": [
      "[(13, 0), (16, 0), (34, 0), (13, 0), (10, 2)]\n"
     ]
    }
   ],
   "source": [
    "def minTabLine(l):\n",
    "    return [(np.amin(a), np.argmin(a)) for a in l]\n",
    "\n",
    "A = np.array([\n",
    "    [13, 22, 28, 66, 40],\n",
    "    [16, 59, 37, 33, 28],\n",
    "    [34, 98, 54, 48, 96],\n",
    "    [13, 84, 93, 79, 76],\n",
    "    [63, 50, 10, 69, 12]\n",
    "])\n",
    "\n",
    "print(minTabLine(A))"
   ]
  },
  {
   "cell_type": "markdown",
   "id": "6f177ead",
   "metadata": {},
   "source": [
    "# Exercice doublon\n",
    "Dans le tableau suivant éliminer tous les doublons de lettres, voyez le tableau sanitize que nous aimerions avoir une fois votre script exécuté ci-dessous :\n",
    "\n",
    "```py\n",
    "a = np.array([\n",
    "    [\"aaabbfffhjik\", \"hhhkkkiooo\", \"hhjuuk\"],\n",
    "    [\"rrrtttyyuuii\", \"rroooiiiuuu\", \"jjjhhhaa\"],\n",
    "    [\"aaabbgghhh\", \"iiikkkooomml\", \"hhhiijjjuu\"],\n",
    "    [\"hhhyyytttuu\", \"xxxnnnooii\", \"kkkjjjuuppp\"],\n",
    "    [\"qqqfffgghhh\", \"qqqkkklll\", \"ooohhhjjj\"],\n",
    "])\n",
    "\n",
    "sanitize = np.array([\n",
    "       ['bfhajik', 'hiko', 'jhuk'],\n",
    "       ['urity', 'urio', 'jha'],\n",
    "       ['hgab', 'likmo', 'jhui'],\n",
    "       ['hyut', 'xino', 'jupk'],\n",
    "       ['fqhg', 'lqk', 'jho']\n",
    "])\n",
    "```\n",
    "\n",
    "Indications : vous pouvez utiliser les set qui permettent d'obtenir un ensemble de valeurs uniques.\n",
    "\n",
    "```py\n",
    "print(set(\"aaabbfffhjik\"))\n",
    "```\n"
   ]
  },
  {
   "cell_type": "code",
   "execution_count": 165,
   "id": "d777190a",
   "metadata": {},
   "outputs": [
    {
     "name": "stdout",
     "output_type": "stream",
     "text": [
      "['jhbafki', 'hkio', 'hjku', 'utyri', 'ruoi', 'haj', 'hagb', 'olmki', 'hjiu', 'huty', 'xnoi', 'pjku', 'qhfg', 'qkl', 'hjo']\n"
     ]
    }
   ],
   "source": [
    "def sanitizer(l):\n",
    "    return [\"\".join(set(w)) for l2 in l for w in l2]\n",
    "\n",
    "a = np.array([\n",
    "    [\"aaabbfffhjik\", \"hhhkkkiooo\", \"hhjuuk\"],\n",
    "    [\"rrrtttyyuuii\", \"rroooiiiuuu\", \"jjjhhhaa\"],\n",
    "    [\"aaabbgghhh\", \"iiikkkooomml\", \"hhhiijjjuu\"],\n",
    "    [\"hhhyyytttuu\", \"xxxnnnooii\", \"kkkjjjuuppp\"],\n",
    "    [\"qqqfffgghhh\", \"qqqkkklll\", \"ooohhhjjj\"],\n",
    "])\n",
    "\n",
    "a = sanitizer(a)\n",
    "print(a)"
   ]
  },
  {
   "cell_type": "markdown",
   "id": "4a279119",
   "metadata": {},
   "source": [
    "\n",
    "# Exercice formater\n",
    "Développez un script permettant de nettoyer le dataset students pour obtenir le tableau sanitize :\n",
    "\n",
    "```py\n",
    "students = np.array([\n",
    "    [  \"Name: Luce du Coulon\" , \"phone: 201-20-30\"],\n",
    "    [  \"Name: Auguste Dupont\", \"phone: 201-22-30\"],\n",
    "    [  \"Name: Roger Le Voisi\", \"phone: 201-27-30\"],\n",
    "    [  \"Name: Alexandre Lacri\", \"phone: 201-10-30\"],\n",
    "    [  \"Name: Jacques Humber\", \"phone: 201-20-35\"],\n",
    "    [  \"Name: Thérèse Guille\", \"phone: 201-20-38\"],\n",
    "    [  \"Name: Gilles Gros-Bodin\", \"phone: 201-20-39\"],\n",
    "    [  \"Name: Amélie Pires\", \"phone: 201-25-39\"],\n",
    "    [  \"Name: Marcel Laporte\", \"phone: 201-20-39\"],\n",
    "    [  \"Name: Geneviève Marchal\", \"phone: 301-20-39\"]\n",
    "])\n",
    "\n",
    "santize = np.array([\n",
    "       ['Luce du Coulon', '201-20-30']\n",
    "       ['Auguste Dupont', '201-22-30']\n",
    "       ['Roger Le Voisi', '201-27-30']\n",
    "       ['Alexandre Lacri', '201-10-30']\n",
    "       ['Jacques Humber', '201-20-35']\n",
    "       ['Thérèse Guille', '201-20-38']\n",
    "       ['Gilles Gros-Bodin', '201-20-39']\n",
    "       ['Amélie Pires', '201-25-39']\n",
    "       ['Marcel Laporte', '201-20-39']\n",
    "       ['Geneviève Marchal', '301-20-39']\n",
    " ])\n",
    "```\n",
    "\n",
    "Comptez maintenant le nombre du numéro comportant le nombre 30.\n",
    "Pour ce faire vous pouvez créer ce que l'on appelle un mask, c'est à dire parcourir le tableau et tester si le pattern \"30\" est présent dans la chaîne. Le mask devra avoir la même dimension que votre tableau. Une fois celui-ci en place vous pourrez alors l'appliquer de la manière suivante :\n",
    "\n",
    "```py\n",
    "sanitize[mask]\n",
    "```"
   ]
  },
  {
   "cell_type": "code",
   "execution_count": 19,
   "id": "590a37b8",
   "metadata": {},
   "outputs": [
    {
     "name": "stdout",
     "output_type": "stream",
     "text": [
      "[['Luce du Coulon', '201-20-30'], ['Auguste Dupont', '201-22-30'], ['Roger Le Voisi', '201-27-30'], ['Alexandre Lacri', '201-10-30']]\n"
     ]
    }
   ],
   "source": [
    "students = np.array([\n",
    "    [  \"Name: Luce du Coulon\" , \"phone: 201-20-30\"],\n",
    "    [  \"Name: Auguste Dupont\", \"phone: 201-22-30\"],\n",
    "    [  \"Name: Roger Le Voisi\", \"phone: 201-27-30\"],\n",
    "    [  \"Name: Alexandre Lacri\", \"phone: 201-10-30\"],\n",
    "    [  \"Name: Jacques Humber\", \"phone: 201-20-35\"],\n",
    "    [  \"Name: Thérèse Guille\", \"phone: 201-20-38\"],\n",
    "    [  \"Name: Gilles Gros-Bodin\", \"phone: 201-20-39\"],\n",
    "    [  \"Name: Amélie Pires\", \"phone: 201-25-39\"],\n",
    "    [  \"Name: Marcel Laporte\", \"phone: 201-20-39\"],\n",
    "    [  \"Name: Geneviève Marchal\", \"phone: 301-20-39\"]\n",
    "])\n",
    "\n",
    "sanitizer = lambda L: [[\" \".join(el[0].split()[1:]), \" \".join(el[1].split()[1:])] for el in L]\n",
    "# [\"Name:\", \"Luce\", \"du\", \"Coulon\"] -> [\"Luce\", \"du\", \"Coulon\"] -> Luce du Coulon\n",
    "# [\"phone:\", \"201-20-30\"] -> [\"201-20-30\"] -> 201-20-30\n",
    "\n",
    "sanitize = sanitizer(students)\n",
    "mask = [\"30\" in el[1].split(\"-\") for el in sanitize]\n",
    "print([sanitize[i] for i in range(len(sanitize)) if mask[i]])"
   ]
  },
  {
   "cell_type": "code",
   "execution_count": null,
   "id": "bc5d9897",
   "metadata": {},
   "outputs": [],
   "source": []
  },
  {
   "cell_type": "code",
   "execution_count": null,
   "id": "79e08423",
   "metadata": {},
   "outputs": [],
   "source": []
  }
 ],
 "metadata": {
  "kernelspec": {
   "display_name": "Python 3 (ipykernel)",
   "language": "python",
   "name": "python3"
  },
  "language_info": {
   "codemirror_mode": {
    "name": "ipython",
    "version": 3
   },
   "file_extension": ".py",
   "mimetype": "text/x-python",
   "name": "python",
   "nbconvert_exporter": "python",
   "pygments_lexer": "ipython3",
   "version": "3.9.7"
  }
 },
 "nbformat": 4,
 "nbformat_minor": 5
}
