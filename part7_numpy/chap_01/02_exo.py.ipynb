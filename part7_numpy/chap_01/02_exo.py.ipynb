{
 "cells": [
  {
   "cell_type": "markdown",
   "id": "0449529a",
   "metadata": {},
   "source": [
    "Soit le tableau suivant modifiez les lignes suivantes :\n",
    "\n",
    "1. Dans une copie , une ligne sur 2 multipliez toutes les valeurs par 2.\n",
    "\n",
    "2. Dans une copie, une ligne sur 3 multipliez toutes les valeurs par 3.\n",
    "\n",
    "3. Ajoutez 100 à la dernière valeur de chaque ligne.\n",
    "\n",
    "```python\n",
    "\n",
    "y1 = np.array([[5, 5, 1, 6, 5],\n",
    "       [7, 7, 8, 9, 6],\n",
    "       [1, 7, 2, 4, 5],\n",
    "       [3, 4, 7, 0, 8],\n",
    "       [1, 8, 2, 0, 2]])\n",
    "\n",
    "\n",
    "yy1 = np.copy(y1, copy=True)\n",
    "```\n",
    "\n",
    "Soit maintenant le tableau de dimension 5x5x5 suivant, répondez aux questions ci-dessous :\n",
    "\n",
    "4. Pour chaque \"numéro\" de matrice paire et chaque ligne paire multipliez par 2 les valeurs.\n",
    "\n",
    "5. Pour chaque matrice dont la somme des valeurs de la ligne est impaire, ajoutez 100 à toutes les valeurs de cette ligne.\n",
    "\n",
    "6. Reprenez la matrice initiale y2 et ajoutez 1000 à la dernière valeur de chaque ligne de chaque matrice.\n",
    "\n",
    "7. Pour chaque matrice dont la somme totale des valeurs est impaire, ajoutez 100 à toutes les valeurs de cette matrice.\n",
    "\n",
    "```python\n",
    "\n",
    "y2 = np.array([[[89, 26, 78, 55, 23],\n",
    "        [32, 92, 86, 55, 27],\n",
    "        [87, 46, 63, 43, 77],\n",
    "        [27, 18, 15, 20, 65],\n",
    "        [52, 75, 82,  9, 38]],\n",
    "\n",
    "       [[78, 20, 86, 16, 31],\n",
    "        [46,  3, 59,  6, 50],\n",
    "        [76, 73, 41, 66, 42],\n",
    "        [70, 80, 62, 58, 41],\n",
    "        [41, 65, 49,  0, 79]],\n",
    "\n",
    "       [[13,  9, 58, 35, 32],\n",
    "        [80, 86, 30, 73, 18],\n",
    "        [52, 73, 74,  8, 40],\n",
    "        [80, 27, 26, 94,  8],\n",
    "        [30, 62,  3, 35, 75]],\n",
    "\n",
    "       [[69, 54, 24, 28, 44],\n",
    "        [29, 85, 56,  7, 69],\n",
    "        [13,  1, 62, 10, 66],\n",
    "        [ 6,  5, 31, 78, 92],\n",
    "        [11, 41, 38,  4, 67]],\n",
    "\n",
    "       [[30, 91, 12, 10, 91],\n",
    "        [65, 95, 36, 54, 35],\n",
    "        [49, 96, 21,  5, 87],\n",
    "        [68, 82, 90, 36, 56],\n",
    "        [41, 18, 75, 39, 99]]])\n",
    "```\n"
   ]
  },
  {
   "cell_type": "code",
   "execution_count": 1,
   "id": "caa932e2",
   "metadata": {},
   "outputs": [],
   "source": [
    "import numpy as np"
   ]
  },
  {
   "cell_type": "code",
   "execution_count": 11,
   "id": "c04d9665",
   "metadata": {},
   "outputs": [
    {
     "name": "stdout",
     "output_type": "stream",
     "text": [
      "[[  5   5   1   6 105]\n",
      " [  7   7   8   9 106]\n",
      " [  1   7   2   4 105]\n",
      " [  3   4   7   0 108]\n",
      " [  1   8   2   0 102]]\n"
     ]
    }
   ],
   "source": [
    "y1 = np.array([[5, 5, 1, 6, 5],\n",
    "       [7, 7, 8, 9, 6],\n",
    "       [1, 7, 2, 4, 5],\n",
    "       [3, 4, 7, 0, 8],\n",
    "       [1, 8, 2, 0, 2]])\n",
    "\n",
    "yy1 = np.copy(y1)\n",
    "yy2 = np.copy(y1)\n",
    "yy3 = np.copy(y1)\n",
    "\n",
    "#1\n",
    "yy1[::2] = yy1[::2]*2\n",
    "\n",
    "#2\n",
    "yy2[::3] = yy2[::3]*3\n",
    "\n",
    "#3\n",
    "yy3[:, -1] = yy3[:, -1] + 100\n",
    "\n",
    "print(yy3)"
   ]
  },
  {
   "cell_type": "code",
   "execution_count": 18,
   "id": "8a83473c",
   "metadata": {},
   "outputs": [
    {
     "data": {
      "text/plain": [
       "array([[189, 126, 178, 155, 123],\n",
       "       [127, 118, 115, 120, 165],\n",
       "       [178, 120, 186, 116, 131],\n",
       "       [170, 180, 162, 158, 141],\n",
       "       [113, 109, 158, 135, 132],\n",
       "       [180, 186, 130, 173, 118],\n",
       "       [152, 173, 174, 108, 140],\n",
       "       [180, 127, 126, 194, 108],\n",
       "       [130, 162, 103, 135, 175],\n",
       "       [169, 154, 124, 128, 144],\n",
       "       [111, 141, 138, 104, 167],\n",
       "       [165, 195, 136, 154, 135]])"
      ]
     },
     "execution_count": 18,
     "metadata": {},
     "output_type": "execute_result"
    }
   ],
   "source": [
    "y2 = np.array([[[89, 26, 78, 55, 23],\n",
    "        [32, 92, 86, 55, 27],\n",
    "        [87, 46, 63, 43, 77],\n",
    "        [27, 18, 15, 20, 65],\n",
    "        [52, 75, 82,  9, 38]],\n",
    "\n",
    "       [[78, 20, 86, 16, 31],\n",
    "        [46,  3, 59,  6, 50],\n",
    "        [76, 73, 41, 66, 42],\n",
    "        [70, 80, 62, 58, 41],\n",
    "        [41, 65, 49,  0, 79]],\n",
    "\n",
    "       [[13,  9, 58, 35, 32],\n",
    "        [80, 86, 30, 73, 18],\n",
    "        [52, 73, 74,  8, 40],\n",
    "        [80, 27, 26, 94,  8],\n",
    "        [30, 62,  3, 35, 75]],\n",
    "\n",
    "       [[69, 54, 24, 28, 44],\n",
    "        [29, 85, 56,  7, 69],\n",
    "        [13,  1, 62, 10, 66],\n",
    "        [ 6,  5, 31, 78, 92],\n",
    "        [11, 41, 38,  4, 67]],\n",
    "\n",
    "       [[30, 91, 12, 10, 91],\n",
    "        [65, 95, 36, 54, 35],\n",
    "        [49, 96, 21,  5, 87],\n",
    "        [68, 82, 90, 36, 56],\n",
    "        [41, 18, 75, 39, 99]]])\n",
    "\n",
    "mask = y2.sum(2) % 2 != 0\n",
    "\n",
    "y2[mask, :] + 100"
   ]
  },
  {
   "cell_type": "code",
   "execution_count": null,
   "id": "c75dfe42",
   "metadata": {},
   "outputs": [],
   "source": []
  }
 ],
 "metadata": {
  "kernelspec": {
   "display_name": "Python 3 (ipykernel)",
   "language": "python",
   "name": "python3"
  },
  "language_info": {
   "codemirror_mode": {
    "name": "ipython",
    "version": 3
   },
   "file_extension": ".py",
   "mimetype": "text/x-python",
   "name": "python",
   "nbconvert_exporter": "python",
   "pygments_lexer": "ipython3",
   "version": "3.9.7"
  }
 },
 "nbformat": 4,
 "nbformat_minor": 5
}
